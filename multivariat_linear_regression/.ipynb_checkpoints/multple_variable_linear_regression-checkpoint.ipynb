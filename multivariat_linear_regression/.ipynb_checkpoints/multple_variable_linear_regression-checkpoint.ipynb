{
 "cells": [
  {
   "cell_type": "markdown",
   "id": "5c86414d",
   "metadata": {},
   "source": [
    "# Linear Regression Multiple Variable\n",
    "\n",
    "## Problem of predicting home price.\n",
    "\n",
    "Area|Age|BHK|Price\n",
    "-|-|-|-\n",
    "2300|18|3|540000\n",
    "2600|13|4|588000\n",
    "3000|10|3|650000\n",
    "2600|14||679000\n",
    "3800|5|2|714000\n",
    "4500|7|4|752000\n",
    "\n",
    "### Given home prices find out price of a home"
   ]
  },
  {
   "cell_type": "code",
   "execution_count": 1,
   "id": "47673dad",
   "metadata": {},
   "outputs": [],
   "source": [
    "# importing libraries\n",
    "\n",
    "import pandas as pd\n",
    "import numpy as np\n",
    "from sklearn import linear_model"
   ]
  },
  {
   "cell_type": "code",
   "execution_count": null,
   "id": "b99ce6a0",
   "metadata": {},
   "outputs": [],
   "source": []
  }
 ],
 "metadata": {
  "kernelspec": {
   "display_name": "Python 3 (ipykernel)",
   "language": "python",
   "name": "python3"
  },
  "language_info": {
   "codemirror_mode": {
    "name": "ipython",
    "version": 3
   },
   "file_extension": ".py",
   "mimetype": "text/x-python",
   "name": "python",
   "nbconvert_exporter": "python",
   "pygments_lexer": "ipython3",
   "version": "3.11.2"
  }
 },
 "nbformat": 4,
 "nbformat_minor": 5
}
