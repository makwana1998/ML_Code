{
 "cells": [
  {
   "attachments": {},
   "cell_type": "markdown",
   "metadata": {},
   "source": [
    "# BIAS, VARIANCE, OVERFIT AND UNDERFIT\n",
    "\n",
    "## BIAS\n",
    "> ## Bias is a phenomenon that skew the result of an algorithm in favor or against an idea.\n",
    "> ## Bias is considered a systematic error that occurs in the machine learning model itself due to incorrect assumptions in the Machine learning process. We can define bias as the error between average model prediction and the ground truth. Moreever, it describes how well the model matches the training data set:\n",
    "> - ## A model with a higher bias would not match the data set closely.\n",
    "> - ## A low bias model will closely match the training data set.\n",
    "\n",
    "## VARIANCE\n",
    "> ## Variance refers to the changes in the model when using differnt protions of the training data set.\n",
    "> ## Simply stated, variance is the variability in the model predition how much the machine learning function can adjust depending on the givven data set. Variance comes from highly complex models with a large number of features.\n",
    "> - ## Models with high bias will have low variance\n",
    "> - ## Models with high variance will have a low bias.\n",
    "\n",
    "## Overfit\n",
    "> ## When a model learns the information and noise in the training to the point where it degrades the model's performance on fresh data, this is known as overfitting data. This means that the model picks up on noise or random fluctuations in the training data and learns them as ideas.\n",
    "\n",
    "## Underfit\n",
    "> ## Underfitting is a scenario in data science where a data model is usable to capture the relationship between the input and output variables accurately, generating a high error rate on both the training set and unseen data. It occurs when a model is too simple, which can be a result of a model needing more training time, more input features, or less regularization."
   ]
  },
  {
   "cell_type": "code",
   "execution_count": null,
   "metadata": {},
   "outputs": [],
   "source": []
  }
 ],
 "metadata": {
  "kernelspec": {
   "display_name": "Python 3",
   "language": "python",
   "name": "python3"
  },
  "language_info": {
   "codemirror_mode": {
    "name": "ipython",
    "version": 3
   },
   "file_extension": ".py",
   "mimetype": "text/x-python",
   "name": "python",
   "nbconvert_exporter": "python",
   "pygments_lexer": "ipython3",
   "version": "3.11.2"
  },
  "orig_nbformat": 4
 },
 "nbformat": 4,
 "nbformat_minor": 2
}
