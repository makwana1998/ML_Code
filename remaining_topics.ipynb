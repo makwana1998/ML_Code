{
 "cells": [
  {
   "cell_type": "markdown",
   "id": "cd842a06",
   "metadata": {},
   "source": [
    "# File Handling in Python\n",
    "\n",
    "### File handling is an important part of any application (web or desktop)\n",
    "\n",
    "### Python has several functions for creating, reading, updating and deleting files. Python provides us with an important features for reading data from the file and writing data into a file.\n",
    "\n",
    "## How Python Handling Files?\n",
    "### If you are working in a large software application where they process a large number of data, then we cannot expect those data to be stored in a variable as the variables are volatile in nature.\n",
    "\n",
    "### Hence when are you about to handle such situations, the role of files will come into the picture.\n",
    "\n",
    "### As files are not-volatile in nature, the data will be stored permanently in a secondary device like Hard Disk and using python we will handle these files in our applications.\n",
    "\n",
    "## Types of file in Python\n",
    "### There are two types of files in Python and each of them are explained below in detail with examples for your easy understanding:\n",
    "* ## Binary File\n",
    "* ## Text File\n",
    "\n",
    "### 1. Binary files in Python\n",
    "#### Most of the files that we see in our computer system are called binary files.\n",
    "\n",
    "* #### Document files: .pdf, .doc, .xls etc.\n",
    "* #### Image files: .png, .jpg, .gif., bmp etc.\n",
    "* #### Video files: .wmv, .mp4, .3gp, .mkv, .avi etc.\n",
    "* #### Audio files: .mp3, .wav, .aac etc.\n",
    "* #### Database files: .mdb, .accde, .frm, .sqlite etc.\n",
    "* #### Archive files: .zip, .rar, .iso, .7z etc.\n",
    "* #### Executable files: .exe, .dll, .class etc.\n",
    "\n",
    "#### All binary files follow a specific format. We can open some binary files in the normal text editor but we can't read the content present inside the file. That's because all the binary files will be encoded in the binary format, which can be understand only by a computer or machine.\n",
    "\n",
    "#### For example, you need Microsoft Word software to open .doc binary file. Likewise, you need a pdf reader to open .pdf binary files and you need a photo editor software to read the image files and so on.\n",
    "\n",
    "### 2. Text files in Python\n",
    "#### Text files don't have any specific encoding and it can be opened in normal text editor itself.\n",
    "\n",
    "* #### Web statndards: .html, .xml, .css, .json etc.\n",
    "* #### Source code: .c, .app, .js, .py, .java etc.\n",
    "* #### Documents: .txt, .tex, .rtf etc.\n",
    "* #### Tabular data: .csv, .tsv etc.\n",
    "* #### Configuration: .ini, .cfg, .reg etc.\n",
    "\n",
    "### File Handling Operations\n",
    "#### Most importantly there are 4 types of operations that can be handled by Python on files:\n",
    "\n",
    "* #### Open\n",
    "* #### Read\n",
    "* #### Write\n",
    "* #### Close\n",
    "\n",
    "#### Other operations include:\n",
    "* #### Rename\n",
    "* #### Delete\n",
    "\n",
    "### Create and Open a File\n",
    "#### Python has a built-in function called open() to open a file.\n",
    "\n",
    "#### It takes a minimum of one argument as mentioned in the below syntax. The open method returns a file object which is used to access the write, read, and other built-in methods.\n",
    "\n",
    "#### Syntax:\n",
    "#### file_object = open('file_name.extension', mode)\n",
    "\n",
    "#### The mode in the open function syntax will tell Python as what operation you want to do on a file.\n",
    "* #### 'x' - create a new file.\n",
    "* #### 'r' - Read mode: Read mode is used only to read data from the file.\n",
    "* #### 'w' - Write Mode: This mode is used when you want to write data into the file or modify it. Remember, write mode overwrites the data present in the file.\n",
    "* #### 'a' - Append Mode: Append mode is used to append data to the file. Remember, data will be appended at the end of the file pointer.\n",
    "* #### 'r+' - Read or Write Mode: This mode is used when we want to write or read the data from the same file.\n",
    "* #### 'a+' - Read and Append Mode This mode is used when we want to read data from the file and append data into the same file.\n",
    "\n",
    "### NOTE: The above-mentioned modes are for opening, reading or writing text files only.\n",
    "\n",
    "#### While using binary files, we have to use the same modes with the letter 'b' at the end. So that python can understand that we are interacting with binary files.\n",
    "\n",
    "* #### \"x\" - Create - Creates the specified file, returns an error if the file exists\n",
    "* #### 'wb' - Open a file for write only mode in the binary format.\n",
    "* #### 'rb' - Open a file for the read-only mode in the binary format.\n",
    "* #### 'ab' - Open a file for appending only mode in the binary format.\n",
    "* #### 'rb+' - Oepn a file for read and write only mode in the binary format.\n",
    "* #### 'ab+' - Open a file for appending and read-only mode in the binary format.\n",
    "\n",
    "### Syntax for text file\n",
    "#### file_object = open('myfile.txt', 'r+')\n",
    "\n",
    "### Syntax for binary file\n",
    "#### file_object = open('myfile.jpg', 'rb')\n",
    "\n",
    "### Read from file\n",
    "\n",
    "#### In order to read a file in python, we must open the file in read mode.\n",
    "#### There are three ways in which we can read the files in python.\n",
    "\n",
    "* #### read([n])\n",
    "* #### readline([n])\n",
    "* #### readlines()\n",
    "\n",
    "#### Here, n is the number of bytes to be read.\n",
    "#### Now let's observe what each read method does:\n",
    "\n",
    "#### Example:\n",
    "#### my_file = open('myfile.txt', 'r')\n",
    "#### print(my_file.read(5))"
   ]
  },
  {
   "cell_type": "code",
   "execution_count": 1,
   "id": "5953d93b",
   "metadata": {},
   "outputs": [],
   "source": [
    "# working with binary files\n",
    "\n",
    "bin_file = open(\"image.jpg\")"
   ]
  },
  {
   "cell_type": "code",
   "execution_count": 2,
   "id": "1a41a2cd",
   "metadata": {},
   "outputs": [
    {
     "data": {
      "text/plain": [
       "_io.TextIOWrapper"
      ]
     },
     "execution_count": 2,
     "metadata": {},
     "output_type": "execute_result"
    }
   ],
   "source": [
    "type(bin_file)"
   ]
  },
  {
   "cell_type": "code",
   "execution_count": 3,
   "id": "372533b9",
   "metadata": {},
   "outputs": [
    {
     "ename": "UnicodeDecodeError",
     "evalue": "'charmap' codec can't decode byte 0x90 in position 79: character maps to <undefined>",
     "output_type": "error",
     "traceback": [
      "\u001b[1;31m---------------------------------------------------------------------------\u001b[0m",
      "\u001b[1;31mUnicodeDecodeError\u001b[0m                        Traceback (most recent call last)",
      "Cell \u001b[1;32mIn[3], line 1\u001b[0m\n\u001b[1;32m----> 1\u001b[0m \u001b[43mbin_file\u001b[49m\u001b[38;5;241;43m.\u001b[39;49m\u001b[43mread\u001b[49m\u001b[43m(\u001b[49m\u001b[43m)\u001b[49m\n",
      "File \u001b[1;32m~\\AppData\\Local\\Programs\\Python\\Python311\\Lib\\encodings\\cp1252.py:23\u001b[0m, in \u001b[0;36mIncrementalDecoder.decode\u001b[1;34m(self, input, final)\u001b[0m\n\u001b[0;32m     22\u001b[0m \u001b[38;5;28;01mdef\u001b[39;00m \u001b[38;5;21mdecode\u001b[39m(\u001b[38;5;28mself\u001b[39m, \u001b[38;5;28minput\u001b[39m, final\u001b[38;5;241m=\u001b[39m\u001b[38;5;28;01mFalse\u001b[39;00m):\n\u001b[1;32m---> 23\u001b[0m     \u001b[38;5;28;01mreturn\u001b[39;00m codecs\u001b[38;5;241m.\u001b[39mcharmap_decode(\u001b[38;5;28minput\u001b[39m,\u001b[38;5;28mself\u001b[39m\u001b[38;5;241m.\u001b[39merrors,decoding_table)[\u001b[38;5;241m0\u001b[39m]\n",
      "\u001b[1;31mUnicodeDecodeError\u001b[0m: 'charmap' codec can't decode byte 0x90 in position 79: character maps to <undefined>"
     ]
    }
   ],
   "source": [
    "bin_file.read()"
   ]
  },
  {
   "cell_type": "code",
   "execution_count": 4,
   "id": "7483a241",
   "metadata": {},
   "outputs": [],
   "source": [
    "bin_file = open(\"image.jpg\", \"rb\")"
   ]
  },
  {
   "cell_type": "code",
   "execution_count": 5,
   "id": "ba6f8d68",
   "metadata": {},
   "outputs": [
    {
     "data": {
      "text/plain": [
       "_io.BufferedReader"
      ]
     },
     "execution_count": 5,
     "metadata": {},
     "output_type": "execute_result"
    }
   ],
   "source": [
    "type(bin_file)"
   ]
  },
  {
   "cell_type": "code",
   "execution_count": 6,
   "id": "184dadad",
   "metadata": {},
   "outputs": [
    {
     "data": {
      "text/plain": [
       "b'\\xff\\xd8\\xff\\xe0\\x00\\x10JFIF\\x00\\x01\\x01\\x00\\x00\\x01\\x00\\x01\\x00\\x00\\xff\\xe1\\x00xExif\\x00\\x00II*\\x00\\x08\\x00\\x00\\x00\\x02\\x001\\x01\\x02\\x00\\x07\\x00\\x00\\x00&\\x00\\x00\\x00i\\x87\\x04\\x00\\x01\\x00\\x00\\x00.\\x00\\x00\\x00\\x00\\x00\\x00\\x00Google\\x00\\x00\\x04\\x00\\x00\\x90\\x07\\x00\\x04\\x00\\x00\\x000220\\t\\x90\\x07\\x00\\x0b\\x00\\x00\\x00d\\x00\\x00\\x00\\x02\\xa0\\x04\\x00\\x01\\x00\\x00\\x00@\\x01\\x00\\x00\\x03\\xa0\\x04\\x00\\x01\\x00\\x00\\x00\\xc8\\x00\\x00\\x00\\x00\\x00\\x00\\x00\\n\\t\\x90\\x01\\x01\\xa8\\x01\\x01\\xc0\\x01\\x01\\x00\\xff\\xe2\\x0b\\xf8ICC_PROFILE\\x00\\x01\\x01\\x00\\x00\\x0b\\xe8\\x00\\x00\\x00\\x00\\x02\\x00\\x00\\x00mntrRGB XYZ \\x07\\xd9\\x00\\x03\\x00\\x1b\\x00\\x15\\x00$\\x00\\x1facsp\\x00\\x00\\x00\\x00\\x00\\x00\\x00\\x00\\x00\\x00\\x00\\x00\\x00\\x00\\x00\\x00\\x00\\x00\\x00\\x01\\x00\\x00\\x00\\x00\\x00\\x00\\x00\\x00\\x00\\x00\\xf6\\xd6\\x00\\x01\\x00\\x00\\x00\\x00\\xd3-\\x00\\x00\\x00\\x00)\\xf8=\\xde\\xaf\\xf2U\\xaexB\\xfa\\xe4\\xca\\x839\\r\\x00\\x00\\x00\\x00\\x00\\x00\\x00\\x00\\x00\\x00\\x00\\x00\\x00\\x00\\x00\\x00\\x00\\x00\\x00\\x00\\x00\\x00\\x00\\x00\\x00\\x00\\x00\\x00\\x00\\x00\\x00\\x10desc\\x00\\x00\\x01D\\x00\\x00\\x00ybXYZ\\x00\\x00\\x01\\xc0\\x00\\x00\\x00\\x14bTRC\\x00\\x00\\x01\\xd4\\x00\\x00\\x08\\x0cdmdd\\x00\\x00\\t\\xe0\\x00\\x00\\x00\\x88gXYZ\\x00\\x00\\nh\\x00\\x00\\x00\\x14gTRC\\x00\\x00\\x01\\xd4\\x00\\x00\\x08\\x0clumi\\x00\\x00\\n|\\x00\\x00\\x00\\x14meas\\x00\\x00\\n\\x90\\x00\\x00\\x00$bkpt\\x00\\x00\\n\\xb4\\x00\\x00\\x00\\x14rXYZ\\x00\\x00\\n\\xc8\\x00\\x00\\x00\\x14rTRC\\x00\\x00\\x01\\xd4\\x00\\x00\\x08\\x0ctech\\x00\\x00\\n\\xdc\\x00\\x00\\x00\\x0cvued\\x00\\x00\\n\\xe8\\x00\\x00\\x00\\x87wtpt\\x00\\x00\\x0bp\\x00\\x00\\x00\\x14cprt\\x00\\x00\\x0b\\x84\\x00\\x00\\x007chad\\x00\\x00\\x0b\\xbc\\x00\\x00\\x00,desc\\x00\\x00\\x00\\x00\\x00\\x00\\x00\\x1fsRGB IEC61966-2-1 black scaled\\x00\\x00\\x00\\x00\\x00\\x00\\x00\\x00\\x00\\x00\\x00\\x00\\x00\\x00\\x00\\x00\\x00\\x00\\x00\\x00\\x00\\x00\\x00\\x00\\x00\\x00\\x00\\x00\\x00\\x00\\x00\\x00\\x00\\x00\\x00\\x00\\x00\\x00\\x00\\x00\\x00\\x00\\x00\\x00\\x00\\x00\\x00\\x00\\x00\\x00\\x00\\x00\\x00\\x00\\x00\\x00\\x00\\x00\\x00\\x00\\x00\\x00\\x00\\x00\\x00\\x00\\x00\\x00\\x00\\x00\\x00\\x00\\x00\\x00\\x00\\x00\\x00\\x00\\x00\\x00\\x00\\x00XYZ \\x00\\x00\\x00\\x00\\x00\\x00$\\xa0\\x00\\x00\\x0f\\x84\\x00\\x00\\xb6\\xcfcurv\\x00\\x00\\x00\\x00\\x00\\x00\\x04\\x00\\x00\\x00\\x00\\x05\\x00\\n\\x00\\x0f\\x00\\x14\\x00\\x19\\x00\\x1e\\x00#\\x00(\\x00-\\x002\\x007\\x00;\\x00@\\x00E\\x00J\\x00O\\x00T\\x00Y\\x00^\\x00c\\x00h\\x00m\\x00r\\x00w\\x00|\\x00\\x81\\x00\\x86\\x00\\x8b\\x00\\x90\\x00\\x95\\x00\\x9a\\x00\\x9f\\x00\\xa4\\x00\\xa9\\x00\\xae\\x00\\xb2\\x00\\xb7\\x00\\xbc\\x00\\xc1\\x00\\xc6\\x00\\xcb\\x00\\xd0\\x00\\xd5\\x00\\xdb\\x00\\xe0\\x00\\xe5\\x00\\xeb\\x00\\xf0\\x00\\xf6\\x00\\xfb\\x01\\x01\\x01\\x07\\x01\\r\\x01\\x13\\x01\\x19\\x01\\x1f\\x01%\\x01+\\x012\\x018\\x01>\\x01E\\x01L\\x01R\\x01Y\\x01`\\x01g\\x01n\\x01u\\x01|\\x01\\x83\\x01\\x8b\\x01\\x92\\x01\\x9a\\x01\\xa1\\x01\\xa9\\x01\\xb1\\x01\\xb9\\x01\\xc1\\x01\\xc9\\x01\\xd1\\x01\\xd9\\x01\\xe1\\x01\\xe9\\x01\\xf2\\x01\\xfa\\x02\\x03\\x02\\x0c\\x02\\x14\\x02\\x1d\\x02&\\x02/\\x028\\x02A\\x02K\\x02T\\x02]\\x02g\\x02q\\x02z\\x02\\x84\\x02\\x8e\\x02\\x98\\x02\\xa2\\x02\\xac\\x02\\xb6\\x02\\xc1\\x02\\xcb\\x02\\xd5\\x02\\xe0\\x02\\xeb\\x02\\xf5\\x03\\x00\\x03\\x0b\\x03\\x16\\x03!\\x03-\\x038\\x03C\\x03O\\x03Z\\x03f\\x03r\\x03~\\x03\\x8a\\x03\\x96\\x03\\xa2\\x03\\xae\\x03\\xba\\x03\\xc7\\x03\\xd3\\x03\\xe0\\x03\\xec\\x03\\xf9\\x04\\x06\\x04\\x13\\x04 \\x04-\\x04;\\x04H\\x04U\\x04c\\x04q\\x04~\\x04\\x8c\\x04\\x9a\\x04\\xa8\\x04\\xb6\\x04\\xc4\\x04\\xd3\\x04\\xe1\\x04\\xf0\\x04\\xfe\\x05\\r\\x05\\x1c\\x05+\\x05:\\x05I\\x05X\\x05g\\x05w\\x05\\x86\\x05\\x96\\x05\\xa6\\x05\\xb5\\x05\\xc5\\x05\\xd5\\x05\\xe5\\x05\\xf6\\x06\\x06\\x06\\x16\\x06\\'\\x067\\x06H\\x06Y\\x06j\\x06{\\x06\\x8c\\x06\\x9d\\x06\\xaf\\x06\\xc0\\x06\\xd1\\x06\\xe3\\x06\\xf5\\x07\\x07\\x07\\x19\\x07+\\x07=\\x07O\\x07a\\x07t\\x07\\x86\\x07\\x99\\x07\\xac\\x07\\xbf\\x07\\xd2\\x07\\xe5\\x07\\xf8\\x08\\x0b\\x08\\x1f\\x082\\x08F\\x08Z\\x08n\\x08\\x82\\x08\\x96\\x08\\xaa\\x08\\xbe\\x08\\xd2\\x08\\xe7\\x08\\xfb\\t\\x10\\t%\\t:\\tO\\td\\ty\\t\\x8f\\t\\xa4\\t\\xba\\t\\xcf\\t\\xe5\\t\\xfb\\n\\x11\\n\\'\\n=\\nT\\nj\\n\\x81\\n\\x98\\n\\xae\\n\\xc5\\n\\xdc\\n\\xf3\\x0b\\x0b\\x0b\"\\x0b9\\x0bQ\\x0bi\\x0b\\x80\\x0b\\x98\\x0b\\xb0\\x0b\\xc8\\x0b\\xe1\\x0b\\xf9\\x0c\\x12\\x0c*\\x0cC\\x0c\\\\\\x0cu\\x0c\\x8e\\x0c\\xa7\\x0c\\xc0\\x0c\\xd9\\x0c\\xf3\\r\\r\\r&\\r@\\rZ\\rt\\r\\x8e\\r\\xa9\\r\\xc3\\r\\xde\\r\\xf8\\x0e\\x13\\x0e.\\x0eI\\x0ed\\x0e\\x7f\\x0e\\x9b\\x0e\\xb6\\x0e\\xd2\\x0e\\xee\\x0f\\t\\x0f%\\x0fA\\x0f^\\x0fz\\x0f\\x96\\x0f\\xb3\\x0f\\xcf\\x0f\\xec\\x10\\t\\x10&\\x10C\\x10a\\x10~\\x10\\x9b\\x10\\xb9\\x10\\xd7\\x10\\xf5\\x11\\x13\\x111\\x11O\\x11m\\x11\\x8c\\x11\\xaa\\x11\\xc9\\x11\\xe8\\x12\\x07\\x12&\\x12E\\x12d\\x12\\x84\\x12\\xa3\\x12\\xc3\\x12\\xe3\\x13\\x03\\x13#\\x13C\\x13c\\x13\\x83\\x13\\xa4\\x13\\xc5\\x13\\xe5\\x14\\x06\\x14\\'\\x14I\\x14j\\x14\\x8b\\x14\\xad\\x14\\xce\\x14\\xf0\\x15\\x12\\x154\\x15V\\x15x\\x15\\x9b\\x15\\xbd\\x15\\xe0\\x16\\x03\\x16&\\x16I\\x16l\\x16\\x8f\\x16\\xb2\\x16\\xd6\\x16\\xfa\\x17\\x1d\\x17A\\x17e\\x17\\x89\\x17\\xae\\x17\\xd2\\x17\\xf7\\x18\\x1b\\x18@\\x18e\\x18\\x8a\\x18\\xaf\\x18\\xd5\\x18\\xfa\\x19 \\x19E\\x19k\\x19\\x91\\x19\\xb7\\x19\\xdd\\x1a\\x04\\x1a*\\x1aQ\\x1aw\\x1a\\x9e\\x1a\\xc5\\x1a\\xec\\x1b\\x14\\x1b;\\x1bc\\x1b\\x8a\\x1b\\xb2\\x1b\\xda\\x1c\\x02\\x1c*\\x1cR\\x1c{\\x1c\\xa3\\x1c\\xcc\\x1c\\xf5\\x1d\\x1e\\x1dG\\x1dp\\x1d\\x99\\x1d\\xc3\\x1d\\xec\\x1e\\x16\\x1e@\\x1ej\\x1e\\x94\\x1e\\xbe\\x1e\\xe9\\x1f\\x13\\x1f>\\x1fi\\x1f\\x94\\x1f\\xbf\\x1f\\xea \\x15 A l \\x98 \\xc4 \\xf0!\\x1c!H!u!\\xa1!\\xce!\\xfb\"\\'\"U\"\\x82\"\\xaf\"\\xdd#\\n#8#f#\\x94#\\xc2#\\xf0$\\x1f$M$|$\\xab$\\xda%\\t%8%h%\\x97%\\xc7%\\xf7&\\'&W&\\x87&\\xb7&\\xe8\\'\\x18\\'I\\'z\\'\\xab\\'\\xdc(\\r(?(q(\\xa2(\\xd4)\\x06)8)k)\\x9d)\\xd0*\\x02*5*h*\\x9b*\\xcf+\\x02+6+i+\\x9d+\\xd1,\\x05,9,n,\\xa2,\\xd7-\\x0c-A-v-\\xab-\\xe1.\\x16.L.\\x82.\\xb7.\\xee/$/Z/\\x91/\\xc7/\\xfe050l0\\xa40\\xdb1\\x121J1\\x821\\xba1\\xf22*2c2\\x9b2\\xd43\\r3F3\\x7f3\\xb83\\xf14+4e4\\x9e4\\xd85\\x135M5\\x875\\xc25\\xfd676r6\\xae6\\xe97$7`7\\x9c7\\xd78\\x148P8\\x8c8\\xc89\\x059B9\\x7f9\\xbc9\\xf9:6:t:\\xb2:\\xef;-;k;\\xaa;\\xe8<\\'<e<\\xa4<\\xe3=\"=a=\\xa1=\\xe0> >`>\\xa0>\\xe0?!?a?\\xa2?\\xe2@#@d@\\xa6@\\xe7A)AjA\\xacA\\xeeB0BrB\\xb5B\\xf7C:C}C\\xc0D\\x03DGD\\x8aD\\xceE\\x12EUE\\x9aE\\xdeF\"FgF\\xabF\\xf0G5G{G\\xc0H\\x05HKH\\x91H\\xd7I\\x1dIcI\\xa9I\\xf0J7J}J\\xc4K\\x0cKSK\\x9aK\\xe2L*LrL\\xbaM\\x02MJM\\x93M\\xdcN%NnN\\xb7O\\x00OIO\\x93O\\xddP\\'PqP\\xbbQ\\x06QPQ\\x9bQ\\xe6R1R|R\\xc7S\\x13S_S\\xaaS\\xf6TBT\\x8fT\\xdbU(UuU\\xc2V\\x0fV\\\\V\\xa9V\\xf7WDW\\x92W\\xe0X/X}X\\xcbY\\x1aYiY\\xb8Z\\x07ZVZ\\xa6Z\\xf5[E[\\x95[\\xe5\\\\5\\\\\\x86\\\\\\xd6]\\']x]\\xc9^\\x1a^l^\\xbd_\\x0f_a_\\xb3`\\x05`W`\\xaa`\\xfcaOa\\xa2a\\xf5bIb\\x9cb\\xf0cCc\\x97c\\xebd@d\\x94d\\xe9e=e\\x92e\\xe7f=f\\x92f\\xe8g=g\\x93g\\xe9h?h\\x96h\\xeciCi\\x9ai\\xf1jHj\\x9fj\\xf7kOk\\xa7k\\xfflWl\\xafm\\x08m`m\\xb9n\\x12nkn\\xc4o\\x1eoxo\\xd1p+p\\x86p\\xe0q:q\\x95q\\xf0rKr\\xa6s\\x01s]s\\xb8t\\x14tpt\\xccu(u\\x85u\\xe1v>v\\x9bv\\xf8wVw\\xb3x\\x11xnx\\xccy*y\\x89y\\xe7zFz\\xa5{\\x04{c{\\xc2|!|\\x81|\\xe1}A}\\xa1~\\x01~b~\\xc2\\x7f#\\x7f\\x84\\x7f\\xe5\\x80G\\x80\\xa8\\x81\\n\\x81k\\x81\\xcd\\x820\\x82\\x92\\x82\\xf4\\x83W\\x83\\xba\\x84\\x1d\\x84\\x80\\x84\\xe3\\x85G\\x85\\xab\\x86\\x0e\\x86r\\x86\\xd7\\x87;\\x87\\x9f\\x88\\x04\\x88i\\x88\\xce\\x893\\x89\\x99\\x89\\xfe\\x8ad\\x8a\\xca\\x8b0\\x8b\\x96\\x8b\\xfc\\x8cc\\x8c\\xca\\x8d1\\x8d\\x98\\x8d\\xff\\x8ef\\x8e\\xce\\x8f6\\x8f\\x9e\\x90\\x06\\x90n\\x90\\xd6\\x91?\\x91\\xa8\\x92\\x11\\x92z\\x92\\xe3\\x93M\\x93\\xb6\\x94 \\x94\\x8a\\x94\\xf4\\x95_\\x95\\xc9\\x964\\x96\\x9f\\x97\\n\\x97u\\x97\\xe0\\x98L\\x98\\xb8\\x99$\\x99\\x90\\x99\\xfc\\x9ah\\x9a\\xd5\\x9bB\\x9b\\xaf\\x9c\\x1c\\x9c\\x89\\x9c\\xf7\\x9dd\\x9d\\xd2\\x9e@\\x9e\\xae\\x9f\\x1d\\x9f\\x8b\\x9f\\xfa\\xa0i\\xa0\\xd8\\xa1G\\xa1\\xb6\\xa2&\\xa2\\x96\\xa3\\x06\\xa3v\\xa3\\xe6\\xa4V\\xa4\\xc7\\xa58\\xa5\\xa9\\xa6\\x1a\\xa6\\x8b\\xa6\\xfd\\xa7n\\xa7\\xe0\\xa8R\\xa8\\xc4\\xa97\\xa9\\xa9\\xaa\\x1c\\xaa\\x8f\\xab\\x02\\xabu\\xab\\xe9\\xac\\\\\\xac\\xd0\\xadD\\xad\\xb8\\xae-\\xae\\xa1\\xaf\\x16\\xaf\\x8b\\xb0\\x00\\xb0u\\xb0\\xea\\xb1`\\xb1\\xd6\\xb2K\\xb2\\xc2\\xb38\\xb3\\xae\\xb4%\\xb4\\x9c\\xb5\\x13\\xb5\\x8a\\xb6\\x01\\xb6y\\xb6\\xf0\\xb7h\\xb7\\xe0\\xb8Y\\xb8\\xd1\\xb9J\\xb9\\xc2\\xba;\\xba\\xb5\\xbb.\\xbb\\xa7\\xbc!\\xbc\\x9b\\xbd\\x15\\xbd\\x8f\\xbe\\n\\xbe\\x84\\xbe\\xff\\xbfz\\xbf\\xf5\\xc0p\\xc0\\xec\\xc1g\\xc1\\xe3\\xc2_\\xc2\\xdb\\xc3X\\xc3\\xd4\\xc4Q\\xc4\\xce\\xc5K\\xc5\\xc8\\xc6F\\xc6\\xc3\\xc7A\\xc7\\xbf\\xc8=\\xc8\\xbc\\xc9:\\xc9\\xb9\\xca8\\xca\\xb7\\xcb6\\xcb\\xb6\\xcc5\\xcc\\xb5\\xcd5\\xcd\\xb5\\xce6\\xce\\xb6\\xcf7\\xcf\\xb8\\xd09\\xd0\\xba\\xd1<\\xd1\\xbe\\xd2?\\xd2\\xc1\\xd3D\\xd3\\xc6\\xd4I\\xd4\\xcb\\xd5N\\xd5\\xd1\\xd6U\\xd6\\xd8\\xd7\\\\\\xd7\\xe0\\xd8d\\xd8\\xe8\\xd9l\\xd9\\xf1\\xdav\\xda\\xfb\\xdb\\x80\\xdc\\x05\\xdc\\x8a\\xdd\\x10\\xdd\\x96\\xde\\x1c\\xde\\xa2\\xdf)\\xdf\\xaf\\xe06\\xe0\\xbd\\xe1D\\xe1\\xcc\\xe2S\\xe2\\xdb\\xe3c\\xe3\\xeb\\xe4s\\xe4\\xfc\\xe5\\x84\\xe6\\r\\xe6\\x96\\xe7\\x1f\\xe7\\xa9\\xe82\\xe8\\xbc\\xe9F\\xe9\\xd0\\xea[\\xea\\xe5\\xebp\\xeb\\xfb\\xec\\x86\\xed\\x11\\xed\\x9c\\xee(\\xee\\xb4\\xef@\\xef\\xcc\\xf0X\\xf0\\xe5\\xf1r\\xf1\\xff\\xf2\\x8c\\xf3\\x19\\xf3\\xa7\\xf44\\xf4\\xc2\\xf5P\\xf5\\xde\\xf6m\\xf6\\xfb\\xf7\\x8a\\xf8\\x19\\xf8\\xa8\\xf98\\xf9\\xc7\\xfaW\\xfa\\xe7\\xfbw\\xfc\\x07\\xfc\\x98\\xfd)\\xfd\\xba\\xfeK\\xfe\\xdc\\xffm\\xff\\xffdesc\\x00\\x00\\x00\\x00\\x00\\x00\\x00.IEC 61966-2-1 Default RGB Colour Space - sRGB\\x00\\x00\\x00\\x00\\x00\\x00\\x00\\x00\\x00\\x00\\x00\\x00\\x00\\x00\\x00\\x00\\x00\\x00\\x00\\x00\\x00\\x00\\x00\\x00\\x00\\x00\\x00\\x00\\x00\\x00\\x00\\x00\\x00\\x00\\x00\\x00\\x00\\x00\\x00\\x00\\x00\\x00\\x00\\x00\\x00\\x00\\x00\\x00\\x00\\x00\\x00\\x00\\x00\\x00\\x00\\x00\\x00\\x00\\x00\\x00\\x00\\x00\\x00\\x00\\x00\\x00\\x00\\x00\\x00\\x00\\x00\\x00\\x00\\x00\\x00\\x00\\x00\\x00\\x00XYZ \\x00\\x00\\x00\\x00\\x00\\x00b\\x99\\x00\\x00\\xb7\\x85\\x00\\x00\\x18\\xdaXYZ \\x00\\x00\\x00\\x00\\x00\\x00\\x00\\x00\\x00P\\x00\\x00\\x00\\x00\\x00\\x00meas\\x00\\x00\\x00\\x00\\x00\\x00\\x00\\x01\\x00\\x00\\x00\\x00\\x00\\x00\\x00\\x00\\x00\\x00\\x00\\x00\\x00\\x00\\x00\\x00\\x00\\x00\\x00\\x00\\x00\\x00\\x00\\x02XYZ \\x00\\x00\\x00\\x00\\x00\\x00\\x03\\x16\\x00\\x00\\x033\\x00\\x00\\x02\\xa4XYZ \\x00\\x00\\x00\\x00\\x00\\x00o\\xa2\\x00\\x008\\xf5\\x00\\x00\\x03\\x90sig \\x00\\x00\\x00\\x00CRT desc\\x00\\x00\\x00\\x00\\x00\\x00\\x00-Reference Viewing Condition in IEC 61966-2-1\\x00\\x00\\x00\\x00\\x00\\x00\\x00\\x00\\x00\\x00\\x00\\x00\\x00\\x00\\x00\\x00\\x00\\x00\\x00\\x00\\x00\\x00\\x00\\x00\\x00\\x00\\x00\\x00\\x00\\x00\\x00\\x00\\x00\\x00\\x00\\x00\\x00\\x00\\x00\\x00\\x00\\x00\\x00\\x00\\x00\\x00\\x00\\x00\\x00\\x00\\x00\\x00\\x00\\x00\\x00\\x00\\x00\\x00\\x00\\x00\\x00\\x00\\x00\\x00\\x00\\x00\\x00\\x00\\x00\\x00\\x00\\x00\\x00\\x00\\x00\\x00\\x00\\x00\\x00\\x00XYZ \\x00\\x00\\x00\\x00\\x00\\x00\\xf6\\xd6\\x00\\x01\\x00\\x00\\x00\\x00\\xd3-text\\x00\\x00\\x00\\x00Copyright International Color Consortium, 2009\\x00\\x00sf32\\x00\\x00\\x00\\x00\\x00\\x01\\x0cD\\x00\\x00\\x05\\xdf\\xff\\xff\\xf3&\\x00\\x00\\x07\\x94\\x00\\x00\\xfd\\x8f\\xff\\xff\\xfb\\xa1\\xff\\xff\\xfd\\xa2\\x00\\x00\\x03\\xdb\\x00\\x00\\xc0u\\xff\\xdb\\x00\\x84\\x00\\x03\\x02\\x02\\x08\\x08\\x08\\x08\\x08\\x08\\x08\\x08\\x08\\x08\\x08\\x08\\x08\\x08\\x08\\x08\\x08\\x08\\x08\\x08\\x08\\x08\\x08\\x08\\x08\\x08\\x08\\x07\\x08\\x08\\x08\\x08\\x08\\x08\\x07\\x07\\x08\\x08\\x08\\x08\\x08\\x08\\n\\x08\\x07\\x07\\x08\\t\\t\\t\\x08\\x07\\x0b\\x0c\\n\\x08\\x0c\\x08\\x08\\t\\x08\\x01\\x03\\x04\\x04\\x06\\x05\\x06\\n\\x06\\x06\\n\\r\\x0c\\x0c\\r\\x0f\\r\\x0f\\r\\r\\x0f\\x0e\\r\\x0e\\r\\x0e\\r\\r\\x10\\x0c\\x0c\\r\\x0e\\x0f\\r\\r\\r\\r\\x0c\\r\\x0c\\r\\r\\r\\x0c\\x0c\\x0e\\x0e\\x0e\\r\\x0c\\r\\r\\r\\r\\r\\x0c\\x0c\\x0c\\r\\r\\x0c\\x0c\\r\\x0c\\xff\\xc0\\x00\\x11\\x08\\x00\\xc8\\x01@\\x03\\x01\"\\x00\\x02\\x11\\x01\\x03\\x11\\x01\\xff\\xc4\\x00\\x1d\\x00\\x01\\x00\\x02\\x02\\x03\\x01\\x01\\x00\\x00\\x00\\x00\\x00\\x00\\x00\\x00\\x00\\x00\\x06\\x07\\x04\\x05\\x02\\x03\\x08\\x01\\t\\xff\\xc4\\x00J\\x10\\x00\\x01\\x03\\x02\\x04\\x02\\x05\\x07\\x07\\n\\x04\\x05\\x05\\x00\\x00\\x00\\x00\\x01\\x02\\x03\\x04\\x05\\x06\\x11\\x12!\\x13\"\\x0712AB#3CQaqr\\x08\\x14Rcs\\x81\\x91b\\x82\\x92\\xa1\\xa3\\xb1\\xb2\\xb3\\xc3\\xf0\\tS\\x83\\xc2\\x15$\\x93\\xd1\\xe3\\x17\\xa2\\xc1\\xd3\\xe1\\xff\\xc4\\x00\\x1c\\x01\\x01\\x00\\x02\\x03\\x01\\x01\\x01\\x00\\x00\\x00\\x00\\x00\\x00\\x00\\x00\\x00\\x00\\x06\\x07\\x03\\x04\\x05\\x08\\x01\\x02\\xff\\xc4\\x00<\\x11\\x00\\x01\\x04\\x01\\x02\\x03\\x05\\x04\\x08\\x05\\x03\\x05\\x00\\x00\\x00\\x00\\x00\\x01\\x02\\x03\\x04\\x05\\x11\\x12\\x06\\x13!\"1AQa2q\\xa1\\xf0\\x07\\x14#BR\\x81\\xb1\\xc1r\\x91\\x92\\xd1\\xe1\\x15\\xc2\\xd2\\x08\\x16$3C\\xff\\xda\\x00\\x0c\\x03\\x01\\x00\\x02\\x11\\x03\\x11\\x00?\\x00\\xfc\\xaa\\x00\\x00\\x00\\x00\\x00\\x00\\x00\\x00\\x00\\x00\\x00\\x00\\x00\\x00\\x00\\x00\\x00\\x00\\x00\\x00\\x00\\x00\\x00\\x00\\x00\\x00\\x00\\x00\\x00\\x00\\x00\\x00\\x00\\x00\\x00\\x00\\x00\\x00\\x00\\x00\\x00\\x00\\x00\\x00\\x00\\x00\\x00\\x00\\x00\\x00\\x00\\x00\\x00\\x00\\x00\\x00\\x00\\x00\\x00\\x0e\\xce\\x10\\x07^G>\\x11\\x9b\\x1d)\\xcf\\xe6\\xa0\\xc5\\xbc\\xd7)\\xf1\\r\\x9f\\xcc\\x87\\xfc \\xc7\\xcdi\\xf5\\xb2jj\\xce|2\\xca\\xc38\\'4E\\xcb\\xb4\\xd3I|\\xb0\\xe9\\xcf\\xe24\\x99~7\\xbfbx\\x1b<\\xb2\\x1f\\x98\\xcc\\xce\\xa8\\xa2\\xc8\\xc6\\xf9\\xb3\\x8d\\xe4z\\x18\\xf6\\xa9\\xd6\\xad8\\xa2\\x9d\\xfc#\\xb1\\x94\\xa7\\xeb\\x98fl\\x0fS\\x1dc8!\\xb2Z3\\xad\\xf4\\xc64z\\x1b\\x0e\\xaa\\xf3\\x00\\x00e4\\x00\\x00\\x00\\x00\\x00\\x00\\x00\\x00\\x00\\x00\\x00\\x00\\x00\\x00\\x00\\x00\\x00\\x00\\x00\\x00\\x00\\x00\\x00\\x00\\x00>\\xb4\\xeck\\x0e\\xb6\\x99P\\x9d\\n\\xf1\\xf3\\x0f\\x8a\\xa28\\x8c\\x9azS&\\x96\\x1e\\xa3:\\x9e\\x1f\\xe12\\xcb\\x1f,\\xe7I1\\xc6:^\\xc9\\x91\\x05\\x06\\xe6\\xd2\\n^\\xa36\\n\\x1d\\xc8\\xed\\xb5\\xd8q\\xe4\\xb4k\\xa3\\xb6\\x7f\\t\\xdfOh%4v\\xdc\\xff\\x00D\\xedu\\xab\\xa8\\x8c:\\xdf\\x81\\xb1R\\xd70\\x9f\\xe0\\x1c=\\x9bb\\xdb\\xad\\xa5i\\x8b-\\x1c\\xf2\\'\\xd1t\\x87\\xa2\\xba,\\xb2\\xe6\\xd8v\\xf0\\x95\\x87H\\x16=3\\xce\\x99uH\\xf2#F\\xff\\x00\\xfe[\\xdb\\xaf\\xce\\xaaL#g`\\xa4\\xabm\\x1df\\x1c\\x96~\\xb2\\xc0\\xa8\\xb5u\\xed\\xe1\\x8c\\xeb\\x92\\xcb\\xd7\\xb16m\\xdd\\x13\\xe7\\xd0\\xda\\x8e\\r\\xe5b\\x96\\xd5\\xcc\\xcc\\x82\\x88\\x97TX\\xbd\\x86$6\\xf3w\\xeb{\\x93\\xa1\\xd3\\x82\\x03\\x12+F\\xc5\\xa7\\xd0\\xa7\\xc9j\\xb6\\xf6\\xe7\\xc8\\xc7\\xb6\\x96\\x8a\\'+e\\xaa\\x95\\xba\\x95_\\x9a\\xe7\\x1d4~\\x9a\\\\\\xd17\\xff\\x00\\x97\\xfd\\xe6\\x96\\x8e\\xd7\\xb2\\xec~\\xb0|\\x8fz1\\xa5u*S9\\xa9\\xc3\\xa6\\x8a\\x16#\\x13\\x97S\\xd13\\x91\\xff\\x00|\\xaf\\xe2\\xfb\\xd5\\r\\xdcdn\\xb4\\x92\\xbf\\xf0i\\xf10g\\x1c\\xea\\xf0\\xb3\\x95\\xed\\xbc\\xf2\\xeb\\x7f\\xc2\\xfe\\xd0\\xf6#\\x19r\\xb86uf\\xa6\\xc8\\xe6@\\xe8\\xb5z\\xbeo\\xc2\\xe3~\\xdc\\xf2\\xbfN\\x1f%*\\xdb\\rCc\\xa9kf\\x82g9\\xb4\\xd5\\x91#\\xf8Re\\xe8\\xd5:\\xa2\\x9b\\xeaW\\xaf\\xd0\\xfc\\xe7\\xa8\\xfd\\x97\\xe9+\\x0cEGSL\\xe8WC^\\x9a4*\\xec\\xd2\\x1d\\xd2\\x87F4\\xf7\\x8a\\t\\xa8\\xea\\x11U\\x92=\\x9a\\\\\\xde\\xdcsG\\x1f\\x92\\xa8\\x8f\\xeba1N\\xd9\\xe3\\xed\\x15\\xf5\\x1b\\xd3\\xd5\\xb1\\xf6\\xfd\\xb6\\x9f\\x89\\x14\\xb8\\x1d\\\\\\xaeDV7K^\\xef(\\xed\\x1ek\\xff\\x00\\x9fQ\\x1e\\x9a\\xcb\\x92\\xf7\\xa1\\xe9\\x1co\\xd1\\\\\\xf6\\xfa\\xc9(\\xea\\x1a\\xde,.\\x91u5\\xbc\\x923\\xd1I\\x1f\\xd5O\\xba)]^0\\xe2f\\xfd\\xbcG6\\x1c\\x9a\\xee\\xda\\xf2\\xed\\xff\\x00H\\xadn\\x16I\\x07\\x89Q\\xcdB\\xa8c#I\\xbdu\\xa9[\\xf8\\x1aj\\x8br/q\\xdce\\xa4y\\x15\\xb7\\x87|k\\xd84\\x19\\x9f\\x0c\\xd9\\xe9\\xf2\\xea0\\xd1\\r\\xc2=$j\\xce\\xf3\\xe0\\x00\\xfab\\x00\\x00\\x00\\x00\\x00\\x00\\x00\\x00\\x00\\x00\\x00\\x00\\x00\\x00\\x00\\x00\\xfb\\x99\\x95\\t\\xd1\\xc2;\"S\\xafCVHc\\x7fq$\\xa1oQ\\xb4\\xa7\\xa1\\xea\\xf8ME\\xaaM\\xd0\\x99QSf\\xc4\\xf8I\\x9eF\\x82,|\\xc21nE\\x8dD\\x14\\xddF\\xda\\x1a/\\xe9\\x9d\\xd0Q\\xf5\\x1bzj=\\xbf@\\xacru\\xc8\\xc4\\xd6N\\xeb%&k\\xf9\\x86\\xe6{Ggc#\\x0bRf\\xa9\\xf0\\x93)\\xed\\x1b7o\\tR\\xdf\\x9f\\x97)\\xf7\\x1bs\\xed\\xb6\\x167C\\xb6}\\xa0\\xdb\\xd1\\xa1\\xa1\\xe9[\\xa3\\xfdZ\\xe4D\\xef{Kc\\xa1\\x9bF\\xd0\\xed\\xe8\\xff\\x00\\xdeL1F\\r\\xd7\\x14\\x9c\\xb9\\xae\\xa7\\xe9*\\x192\\xeb^\\xfa\\xb9\\x17\\xc7\\xf7R\\xe4\\xa2\\xdd\\xd1\\x1e \\xa8\\xc1*\\xba\\xb6\\xf0\\xb0\\xdb\\xcd\\xd1\\xd3\\xd27?\\x86\\xfd(\\xee\\xd3\\x9a{3\\x0ft-\\x14Z\\x9e\\xf6#\\xa4VD\\xec\\x95\\xbc\\xad\\xc8\\xc8\\xe93\\r\"SH\\xcc\\xb7s\\xf4\\xb5\\xa7Ex\\xc5\\x1f+cbj\\x9a\\xa7_\\xe4w\\xebBxQ\\xf8/\\xabo\\x13?\\x96F+pj\\xb5z\\x8fU3\\x01\\xaeM]+\\x96\\xa67V\\x9f\\xab\"\\xd7|\\n\\x8b\\x9fSrw3\\xb4\\xfd\\x910\\xa3\\x9aY\\xa4\\xd8\\xd5\\xef$q\\xd3\\xec\\x95\\x96\\x18\\xc0\\xcf\\x99\\xe9\\x1ag\\xbb\\xb9\\x9d\\xf4Xz\\xc3\\x01\\xf4\\x975\\x13\\xa7\\x96\\x9d\\xeec\\xf51\\xb9\\xa1\\x11\\xb1C\\x05+%kbG5[\\xa7\\x9b\\x89\\xdb\\xe1\\xf9\\xcf%\\xfeA\\xdc\\x98\\xa5~d\\xfaVG\\x16M\\x97\\x8a\\xe7\\xe8\\x8f\\x8b\\xaf<\\xf8z\\xff\\x00\\xca\\xf6\\x9e\\xb4\\xe0:\\xb8\\xb6W|?X\\x8ai_\\xa71\\x1b#:\\'\\xf89\\xf9j\\x8e\\x9d\\xbe\\xc7d\\xba\\xbf\\xf5\\x02z\\xca\\xb8_;\\xd5\\xee\\xe1\\xf5*\\x97\\x16\\x16\\xaa\\xcf\\xadS\\xb6\\xcdY\\xbb\\xea\\xcf)\\xe0{\\xd6Up\\xab\\xba\\x91\\xbc\\xcdw\\xda\\x1e\\x8c\\xc6\\xdd,\\xd15\\xd9\\xb1#b\\xb5\\xf1E\\x1aE\\x97\\x0eg\\xab3Gs\\xf0e\\xdb\\xabn\\xefY\\xd2\\xe2\\x0cBD\\xf4DgM=4+\\x8b8\\xd5G\\x9ea\\xf9g\\xdb\\xe3\\xf9\\xf5\\x1a\\xb1\\x13ZGY\\x1c\\x8eo\\xd0Z\\x88\\xb8_\\xcc\\xa8)^\\x8f\\xb0\\x85\\x04\\xef\\x95+$X\\xd8\\x88\\xed*\\x89\\xab\\x9f\\x87&\\x7f\\xa8\\xb7z^\\xc3\\x15\\x15U-\\xabk_;\\x167\\xb5\\xdc6\\xea{|\\xa7\\xfeB\\x8c\\xb8[tL\\xf8\\xda\\xe4{\\xdd6\\x9d1\\xb6M~\\x97\\xd1\\xf0O.g\\xeb\\xca\\xdbr\\xc4\\x88\\xf6wu\\xff\\x00%\\xe7\\xc2N\\x8a\\n1\\xb5WUo\\xc3\\xf9\\x95v<\\xc3q\\xb5\\xea\\x91\\xee\\xcd<\\xbf\\xb5+\\x9a\\xeb~Y\\xfb\\xcf@b\\x9e\\x8ek\\xa1\\x81\\xb53\\xd1\\xd5\\xc5\\n\\xc6\\xcf+-<\\x8cg\\x9a\\x97\\xb8\\xab.\\xd6\\xfe\\xbf\\x88\\xeb\\xd2\\x9d\\xf1\\xb5\\x18\\xff\\x00\\x89!\\xb1^\\x0b\\xca\\xf7\\xc3\\xa2\\x95\\xa4\\xf4\\xe6\\x04\\xf6\\xfe\\xf4\\xfd\\x12]t\\xb7di]\\t*\\x86~\\x9a\\xa1Yd1{_\\xb1\\xc4bF*\\x1c\\x11\\r\\xdd\\xca\\x9b\\xbf\\xf14\\xeb\\x19\\xd4c\\xf7\\x90[Pr\\x1f\\xb0\\xeb\\x00\\x1f\\xb3P\\x00\\x00\\x00\\x00\\x00\\x00\\x00\\x00@\\x0e\\xd6F\\xaad2\\x81M\\x9d\\xb6\\x8c\\xddG@Nq\\xf8\\x1e|{\\xcd\\xa6A\\xa9\\x1c\\x8a\\xd0\\xab\\xbfR\\x1c\\xd2\\xcf\\xed%\\xabG\\xb2{\\x8e\\x87A\\xfb\\xc9\\xb5~\\x11\\x81D\\x91\\xec\"n\\xa3\\xc86\\x9c\\xdd\\xd4\\xc3\\xbf\\xde}\\xa5\\xa0\\xd5\\xf8\\x9b\\x90p\\x92$\\x9a\\x1ci\\xac\\xed7\\xb8G\\x02T\\xd4d\\xb1F\\xe7\\xa2u\\xabr\\xc8\\x9aX\\xec\\xae\\xcbK\\x91Z\\xe4\\x8d\\xec{\\\\\\xdfY\\xe9\\x0e\\x82\\xf1M5\\xb6\\xd8\\xc6\\xce\\xd8\\x1e\\x93qZ\\xc6\\xab\\x98\\xe9\\x18\\xfd\\x19\\xeb\\xe1\\xfdo\\'\\xfd2\\xbc\\xab\\xa5l\\xd5\\x0e\\x99\\xadDk\\xd8\\xf7d\\xd2_\\x95\\xc6C\\x1c+\\x0bY\\xa2\\xb7\\xa3]\\xae\\xbb\\xbc\\xfd\\xda\\x14\\xe4\\xdcE<\\xf6%\\x89\\xf1lc\\x17\\xb0\\xff\\x00\\xc5\\xdeC\\x9fi\\xc9Q\\r\\x85\\x1d\\x1e\\xdf\\xa0K\\xae6N\\xce\\xde#\\x1a\\x1bn\\xddK\\xd9aDg1\\xfbP\\xe5-\\xfd\\xed>`\\xea\\\\\\xa4\\xfc\\xd2\\xce\\xa7\\xb29\\xc8\\xc4kU\\xeb\\xa7\\xb2\\xd6\\x98\\xbd\\x11`\\xae<\\xba\\x9f\\x9aF\\xd4\\xf0\\xf8\\x8fTY,Q\\xc4\\xc6\\xb661\\x89\\xa7\\xc2\\xd3\\xca\\xbcP\\xf7\\xd6{\\xdc\\xa7C\\x0b\\'>\\xde\\xd3M\\xd1F\\x1d\\x91\\x89\\x0e\\xa8\\xdc\\xdeO\\x13M\\xed\\xe3\\x186*\\xa6\\xd2\\xb5\\xads\\xd1\\xbcG\\xb9\\xfd\\x86\\xff\\x00\\x96\\xc2\\xd4\\xc1\\xd4\\xdbG\\xf6do\\x1etqL\\xb3\\xc9<\\xf19#\\x99\\x1b\\xaefz\\x17F\\xce\\x1f\\x94\\xfa\\xbc\\xbd)AQ\\xb5Z\\xd6M\\x1bo\\xa3\\x15~:\\xf8\\xfaw\\x9e\\xa8\\xe1\\xd8\\xe0\\xff\\x00\\xeap\\xb5\\xe3\\xeb{Y3\\xabf\\x8e\\x175\\x8dsSW3\\xd3\\xec\\xfa\\xc8\\xb5\\xea\\xad\\xd54r\\xd7\\xb2\\x9d\\xcb\\x14K\\xa1\\xa8\\xe7\\xb1\\xbb\\x1bj\\xce\\x87\\xad0\\xc2\\xf9\\xdb$\\x12*6,\\x95\\xd2q\\\\\\xefQ0\\xc16g\\xbd\\x8eG5YO\\x9el\\x8d\\xcd\\xf3\\x9f\\x97\\xa3\\xfc\\xb2\\xcb\\xc8c\\xf08\\xa6}j\\xd3QU=\\x98\\xe3\\x91\\xcb\\xbf^\\xedW\\xc1?\\x91/\\xd2\\xa4h\\xb2F\\x9e)\\xdf\\xdd\\xea\\x89\\xef\\xfc\\xcaJ\\xd7Mp\\x9a\\x9e8*\\x1a\\xb4\\xf4\\xbcVL\\xc8ti\\x95\\xdc\\x9d\\xbe\\'\\x9e\\xe1\\xe7\\xf7\\x98\\x97\\\\3\\xc8\\xd6\\xe5\\xca\\xc6\\xe9kt\\xfdg\\x10\\xf4\\x9d\\xcf\\t\\xb1\\xfb\\xaad\\xee\\xe5B\\x0ft\\xc2\\xb9.\\x95N\\xb5\\xd9J\\xbb\\xfe\\xe1\\xe7\\xbfV\\xa6\\xc6\\xf81;\\x91=\\xff\\x00y}W\\xa9\\xbbVh\\xa4wv\\x84\\x02\\xcb\\xd0\\xaf\\x1d\\xba\\xdc\\xf6\\xb1\\x8a\\xbc\\xbc\\xba\\x9c:O\\xe8>\\x92\\x9a\\x87\\x8fL\\xe7\\xeaG\\xb1\\x92\\xa3\\x9d\\xdb-\\xcak\\xbaF\\xdd\\x08\\xd5sbc\\x95\\x15;JD1\\xed\\xf9\\xb3\\xd3\\xbe6#\\x9375^\\x8a\\x82\\x96b\\xe3gEE]\\xba\\xa7\\xa6\\x89\\xe7\\xd3\\xae\\xbe\\xf3<-\\xb1,\\xcdO\\xba\\x8aPl\\xb3\\xa2I\\x1e\\x9dH\\xee\\x1fq\\xa9\\xbaY\\x1c\\xe5\\xdf7yb\\xccu\\xb7\\xca3\\xe055\\xd6\\xdc\\xd7\\xaf\\xd3\\x7fL\\xb1d\\xe2\\x8c\\x8d\\xa6\\xa4s\\xd9\\x95\\xed\\xd3\\xb9\\xcf{\\x93\\xc7\\xcdI\\x13iE\\x1b\\xb75\\x85u\\x86*\\xe7\\xa6\\x93TOVis\\xdd\\xa7\\xc0\\xef)\\x11t`\\x9cg\\xf3\\x87&\\xa6G\\x14\\xbc]NWv\\xdd\\xff\\x00/\\'\\xec\\xbf\\xfb\\' \\xa9lMY\\xe5\\xd5\\xab\\xf9\\x91\\x1aK]\\xc6X\\xea%|y\\xaa\\xea\\xd2\\xed-\\xf0p\\xe5=C\\xf4=\\x8f\\x933\\x05\\xb7M\\'e\\x9b61\\x7f\\x1f^\\xbe\\xed\\nk\\xe9\\x02x\\xeb,Md]\\xa7\\xf9\\x1e\\x8d\\xe9\\n8\\x92\\xd7;%V;\\x8dE$z\\\\\\xee\\xd7\\x12\\x9e\\xa4\\xfc\\xc9\\xc5\\xdd\\x1f\\xd5\\xd2\\xab\\xb8\\xd0\\xbd\\xac\\xd5#x\\x8d\\xe7\\x85?\\xd5=ex\\xc4\\x92\\xcd\\x14Q\\xbd\\xd9\\xa3!f\\x9e_\\xaa\\x94\\xe3L\\xc5]\\xb2\\xd5\\xaaG\\xb5\\xc5\\xd5g\\xe8\\xe2\\t\\xe2\\xd5\\xf2\\xedy^`x\\xd6\\xce\\x0eg\\xf2\\xe1\\xdf\\x0b\\xcf\\x07US*\\xae\\xdb\\xeeh\\xab\\xad\\xcb\\x9a&[\\xab\\xb9P\\xf7V+\\xe8.\\x97\\x88\\xc9j(\\xb8M\\x91\\xbcds\\x16J}QI\\xe9\\x17\\x83\\x9f\\x92B\\xa6\\x83\\x1ea\\xea%W\\xc3O$\\xb3#\\xbc\\x9c\\xcd\\x8eG\\xab{\\xbc\\x9f\\xce\\xe6\\xf2?z\\x90y89h=\\xabj\\xdcM\\x8d|{\\xd7\\xfau,\\xd7\\xf1\\xa4yX\\x9f\\xf5:V\\x1f\"z3\\x97\\xfd{\\xca\\xa6\\xf5\\xf2j\\xba2\\xdb%\\xceHZ\\xc8\"k\\x16F\\xb9\\xdeZ(\\xe4\\xeb\\x92H\\xfd\\x88P\\xcenG\\xb3\\xbaJ\\xf9Y-E\\x04\\xb6\\xeaH\\x1f\\x1cU-\\xd1<\\x92p\\xf5\\xb9\\x8ay\\n\\xbe\\x97/r\\x9a9\\x16\\xd2\\x86]\\x94\\x9f\\xbd\\xa4b8\\xb2\\x13C\\xce\\xbe\\xcd\\x8f4\\xa0\\xe6\\xf8\\xce\\x07<\\xe5\\x80\\x00\\x00\\x00\\x00\\x00\\x00rE2i\\xa3\\xcdQ=\\xa6!\\xbd\\xc3t\\xfa\\xa4Ob\\x9d:\\x15\\xd6\\xcd\\x88\\xe1\\xf3S#\\x13\\xa9$\\xb5\\xdb\\xf6Cs\\x05\\x1e\\xff\\x00y\\xb1\\xb7\\xd0l\\x86dt\\x9b\\xfd\\xe7\\xac\\xb1\\xdc>\\x91F\\xc2G\\x1cZ!\\xa7\\xa8\\x834Oq\\x84\\xb4\\n\\x9f\\x89a\\xd80\\xeb_\\x9b\\x9d\\xd9D\\xea\\xfaG\\xdb\\xeb\\x1a\\xd6\\xaa\"5\\x137.H\\x9e\\xb2cO\\x0c\\xc7I\\xaa\\x99mc\\x1e\\xb0s\\xde\\xba\\x15\\x1dD\\\\\\xc9\\xb7y&\\xc2\\xd6\\x8c\\xd1\\xceT\\xe5k\\xb9\\x8d\\xce\\n\\xc3,\\xac\\x9d Tr,\\x8e\\xd2\\xd74\\xb3\\x97\\xa2\\xc7\\xd3p\\xe2\\x99\\xd1F\\x8e\\x91\\xfb\\xea\\xd5\\xa5\\x91\\xc9\\xe7$\\x8e/,nK\\x8e\\x82\\x93\\xdc\\xd7\\xbf\\xb4\\xa9\\xaa\\'\\x8f\\x8f\\xf6(\\xfc\\xb6I\\x91\\xa2\\xa7\\xaf\\xc0\\xf8\\xb6\\x97H\\xe8\\xe6tzZ\\xab\\xa5\\xbaY\\xa2\\x1f7\\xe6\\xe3%xz\\xd6\\x9912\\xf4n=/\\x82q\\xad\\xb1\\xf6\\x88h\\xe6Ht\\xc7\\x16\\x9e\\x13\\x9b\\xcd\\xab\\x87\\xff\\x00[\\xfdb\\th\\xb5[Q\\xf1\\xe8Z\\x85Dc\\x97\\'1\\x9at\\xfb=)VX\\xb9%\\x87\\xc8\\x92F\\xa9\\xa2\\xaa\\'\\xbb\\xcc\\xa2\\xeffQ\\xdb\\x9a\\x8d\\x7fg\\xd3\\xdeX\\xd8[\\xa0*x\\xe1\\x8e\\xa2\\xb15\\xbd\\xcd\\xe26\\x1d\\\\\\xbf\\xea\\x12Z\\xfc\\x1fK-+\\xb9\\x18\\x9c\\xbb7&iM\\x19\\xf0\\xd9\\xfd\\xa9\\xb4\\xaf\\xc4\\x89Q\\x14j\\xd5\\xcd\\x154\\xa9\\xaa\\x8d\\xba\\\\\\xd5\\xcb<\\x9c\\xd2\\xbc\\x9a\\xb2\\xc8\\xc7,\\xc5U\\x95\\xc9\\xb9\\xefk#wD\\xfdJ\\xfa\\xd7`JI\\xd26l\\xc4n\\xc5\\xbdh\\x99\\x15\\x8d\\xf8J\\xce\\xf7P\\xb2N\\xf7*d\\xb9\\xbb$$\\x98v\\xeb\\xa5Q\\x8b\\xd5\\xa7c\\xcc<s\\x83\\xe6\\xb5\\xeea6\\xe1\\x8c\\xf3\\xaaYbK\\xd7~\\x9a\\xaf\\xa9y\\xe1\\x9c\\xbc\\x97\\xc0M\\xe9\\xfa\\x8a\\xff\\x00\\x0bM\\xb4_\\t2\\xa2\\xa9\\xd8\\xf0\\x96n\\x93\\xebN\\xa8\\xa7\\xb70\\xb9\\x06\\xcd\\x12)\\xdc\\x96Huj\\xe1G\\xab\\xe9#\\x1b\\xab\\xf1\\xc8\\xfb_X\\xd8\\xd3~\\xb3%j\\x11\\x135R\\x87\\xe9[\\xa56B\\xb2*\\xbf$EsSs\\x95N\\xac\\x96\\xe4H\\xdb\\xaa\\x93\\x16\\xbfR\\xd1K\\xd2I\\xabNY7\\xadT\\x82\\xe3\\xcc[\\x154++\\xdd\\xa9\\xca\\xe6\\xc6\\xdf\\xcf\\xed\\xfe\\xcc\\xae\\xf0o\\xca\\x12\\xd4\\xb4R%U|4/\\x8d\\xee\\x95\\xdf8r3\\x8f\\xc9\\xe4\\xd8\\xcc\\xff\\x00\\x94\\x87\\x95zc\\xf9Q\\xc5q\\x9d\\x91\\xd2\\xeaJh\\x97K\\\\\\xbe\\x99\\xfeK\\x8a\\xf4\\x8f\\xbe$\\xcf\\xac\\xb11\\x1c\\x1fn\\xcd\\x9d\\x9c\\xb7#\\x1b\\xed;N\\x9d=|u\\xe8u*N\\x88\\xfd\\x0ffZ\\xbaN\\x89\\x12DV\\xa3\\xd5\\xc9\\x92o\\xd94m\\xacI\\x11\\xeb\\xedi\\xe7\\x1c\\x1b\\x8c\\xb3L\\xd5\\xd9\\x96\\xc6\\x1b\\xc4\\xe8\\xac~\\xfe&\\x1d\\x0b8o\\xaa*\\xedO\"\\xc9\\xa2\\xc6\\xa7m>\\xf6\\x9f\\x02v\\xfanf\\xfb\\x8d5\\xce\\xdf\\xbf\\xfa\\xbf\\xd37t\\x95(\\xe5g\\xc0t\\xd6\\xc5\\xbf\\xe7\\xff\\x00\\xb0\\xe41\\xca\\xd5:h\\xaa\\x8b\\xa2\\x90\\x1b\\x87\\x93\\xe7\\xfbo\\xe6\\x11l=\\x89\\x1d\\x05D\\x89\\xaed\\x89\\xef|r\\xb6\\x17\\xf0\\x9e\\xe6IM*\\xa4\\x7f\\xf6\\xc9I7HI\\x94\\x0e\\xcb\\xb9\\xb3;\\xf6\\x85me\\xacI\\x9c\\xc7\\xb1S\\'\\xb9\\x9c\\xcew\\xd5J{\\x97\\xfe\\x9eel\\x8d\\xbf\\x0b\\xfb\\x95\\x19\\xfe\\xf2\\xb4\\xe3\\x8co>\\x18,yo6\\x93\\xaf,\\x7fc\\x1f\\xf2\\xa6&\\xdd\\x1e\\xda5\\xbd\\x15X\\x8eMOn\\x97\\x1aK\\xd6\\x12|\\rk\\x9e\\xe8\\x1c\\xc4T\\xa7\\xe2C+%\\xd4\\xf8\\xa9\\xa5\\xf2\\x8a\\xb9q\\xf8_]\\x9ef\\x1b\\xbeSV\\xcbnlEZ\\x89X\\xf7\\xf2\\xc7\\xcf\\xa7\\xfa\\x1f\\xac\\xf5v[+\\x05z\\xdb\\x9c\\xf4o\\xe6Tp\\xf0\\xfc\\xd6\\x1d\\xb2&o=\\x1d\\x8e0\\x8d\\xbe\\x9e\\x82)\\xf8\\xaa\\xe7\\xb1\\x8e\\xe3\\xb5\\xcb\\x9bQ8{\\xb1\\x89\\xdc~B\\xd6L\\x99=\\x1b\\xd9Wr\\xea\\xf5f^\\x9d2\\xfc\\xa9k.\\xa8\\xb0\\xb5\\x16\\x1au\\xe5\\xcbV\\xfa;\\xfb\\xb2E\\xf7\\xf1\\xca\\x1a\\xa6dje\\xed<\\xd3\\xc4\\xb9X\\xed:(\\xe2\\x7f1[\\xbdU\\xdf\\xc7\\xe0\\x9e\\xe2\\xe3\\xe1L\\x14\\xb8\\xb8\\xa6t\\xa9\\xb3\\x7f\\x81\\xae\\xaev\\xdfq\\x15\\xb8!#\\xacy\\x1f\\xabB1[\\xa1\\xf74\\xbb\\xcd<\\xd1\\x9820\\xda\\xce\\x86\\rB\\x1d\\xb8\\xd4\\xad-Fb\\x00\\x0c\\xc7\\x1c\\x00\\x00\\x00\\x04\\x00\\xecW\\x16gCx\\x12z\\xd9]\\xc1\\x89\\xef\\xd1\\xa7R\\xa3y\\x1b\\xf1\\xf7ww\\xfbJ\\xd5S\\xbf\\xda{S\\xe4_B\\xfa\\xbaj\\xf4kQ \\xa3J69\\xbfNi>s\\x9c\\xbf\\x7f\\r\\x7f\\x02]\\xc2\\x9b?\\xd4\\xe2W\\xf8u$x\\nm\\xb9~(d\\xeeq\\xa7\\xa7\\xe8\\xa2F\\xec\\xe7\\xc4\\x8b\\x9b\\xb9Q\\xda\\xba\\xbd\\xd9\\x9dW\\x1c\\x13\\x1c>vf\\xb5Uu\"#\\x1e\\xe7~\\xe4\\xfd\\xe5\\xed\\x8d\\xb0\\xeaQB\\xda\\xa7v\\x16W2>\\xc6\\xa5{3\\xf4~\\xad\\x98y\\xc3\\x12\\xdd_+\\xdc\\xe5]\\xd5w=\\xa5\\x8b\\x99\\xf6\\xd3V.\\x8c\\xf4\\xf3N\\xf4\\xf1\\xee-\\xcc\\xe5\\x0cv6-\"\\xed\\xb8\\xddE$L\\x87K$Gm\\xc4v\\xa4\\xd1\\xd4\\xce\\xafoy^\\xdc\\xdf$\\xce\\xd1\\x1b\\x15\\xda\\xa4\\xd3\\xa9\\x1b\\xfa\\x8c\\x89\\xb1\"\\xa3\\x1b\\n\\xa3\\x18\\xce&\\xa7H\\xe8\\xf9\\xfb\\x19y\\xc4N?\\x0b\\xbf\\x82\\x86\\xe6\\x92\\xfb\\x02\\xc7\\x16\\x88X\\xc9\\x11\\xafk\\xa4k\\xa4\\xe6\\xf2\\x9ep\\x94C\\x1b\\xab\\xa6\\xe4j\\xb9Uzwh\\x9d\\xfdW\\xbb\\xe0y\\xff\\x00\\x8bx\\x95\\xef\\x89\\x95\\xa1gO\\x12Y\\xd1M\\xce\\x92\\x86x\\x9d\\xcf$\\xac\\x91\\x8e\\xd4\\xdeF\\x16OI\\xb8\\xba:\\xfd\\x122\\x06\\xc1\\xa1\\xacf\\x96;V\\xaf)\\xdb\\x90\\xa2\\xec\\xd1\\xa2J\\xdf\\x88\\xb3m-E\\x8d\\xde\\xf27\\x91\\xab\\x1f=\\xb6WUwv\\xaa\\xbe~\\x9d\\xdf\\x0fq\\xe7|\\xbc\\x8b\\xbd\\xae\\xf7\\x13\\xac9N\\xacX\\x9c\\xd4L\\xd5\\xafn\\xe8\\xc7y\\xc8\\xe4\\xe2\\x12[\\x1d\\xb7\\x92=\\xbd\\x13\\xcd]\\xaev\\xa2\\xc3\\xf0\\xff\\x00\\xb0\\x94\\xd9k\\x1b\\xa2?\\x81\\xe4\\n\\xe3\\x95u]>{EKzg\\xf9|\\xf6\\x89\\x15\\xb2\\xb2H\\xb2\\xd2\\xb9\"\\xae\\xe9\\xe17\\x10bYw\\xe4G\\xa2#\\\\\\xec\\x91\\xfd\\x9f\\xa6ki\\xa6j\\xe4\\x9d\\xe6C\\xe2M\\xfd\\xa8\\xd2\\'4m\\x7fz\\x10\\x99\\x11\\x8ewm\\xa6\\xde\\xe1iW\\xbf\\x88\\xd69\\x11\\xc9\\xba*v\\\\uW\\xd9$\\x8d\\x1a\\xf4\\xebi$\\xb2b&\\xbd\\x8cfZU\\xa9\\x92\\x99\\x17\\xf92\\x8dv\\xcf=\\x8a\\xcb/\\x89\\x8aF?y\\xc4[2\\xc7\"7N\\xe3w\\x81\\xef\\xc8\\xe4\\x8f\\x7f\\tc[\\xae\\t\\xa1\\xdb\\x9ex\\xb4\\xd5>\\'\\xb1\\xcd\\xea\\xcb\\x99\\xa4\\xde\\xd5\\x8eSK\\x91\\xdc\\xbe\\xf3\\xc6\\xbcY\\xc1\\xa8\\xf7=ca\\xe9\\x1e\\x10\\xe3\\x86B\\x8c\\x82\\xc3\\xf4,\\x9b\\xf5\\xf3(\\x9f\\x92\\xee\\x88\\xdf\\xd6x\\xa3\\xe5\\rqvr9\\x15rMg\\xa4\\xafX\\x936\\xbf\\x7f\\x0b\\x0f8t\\xedqk\\x99\"\\'Z\\xebqL`1\\xee\\xa5{c\\x9b\\xe3\\xf0=kN\\xeb,Wl\\x8c<C\\x8e\\xb1W\\x19\\x16%]\\xf5jk\\xbf,\\x83Y.j\\xd7\\xe4\\xb9\\xa2\\xa3\\xb9\\x9a\\xe3Q\\x8a\\xae\\x8a\\xb5\\x12\\xe5\\xd5\\xa8\\xc8\\xb4\\xd5\\xb2D\\xe7\\xe5{[\\xca\\xe3\\xd8pRl0m\\xf3\\xfd\\xcd\\xfa\\xb3\\xf6\\xcfH\\xe0\\x9cY\\xb7Yp`\\xccQ\\xb3\\xf7\\xf10\\xf1\\xf6\\x14\\xc5\\xba{\\xcb\\x13\\rt\\xae\\xc4\\xd6\\x89\\x9a\\xab\\x9c\\xc2\\xb8\\xca\\xe0\\xdc\\xf5v\\xd6\\xf9~\\xa8Yt2,D=\\xe9\\x85oZ\\x9d\\x1e\\xfe\\x02W;s\\xfd?\\xf6\\x1e_\\xc0\\x1d&?\\x89\\x12\\xec\\x9c\\xa5\\xe7`\\xc6m\\x952\\\\\\x91\\xda\\xdb\\xa7\\xf4\\n7%\\x8c\\x96\\xbb\\xf5\\xd3\\xa18\\x89\\xaf\\x917\\x1c\\xb1\\x1d\\xad$\\xf2ns#j\\xb6m.\\x91\\xd91\\xc5\\x13h\\x9a\\x8e\\x8e\\'\\xf0\\x96Em2\\xa7\\xce\\xdc\\xe7j\\xd7S\\xc3\\x96Ix^G\\xd9\\x1c\\x1f\\xdee\\xfd\\x89\\xf1\\x94\\xf3\\xc1\\x1d\\x16LX\\xd8\\xf7+\\x17\\x86\\xde\"\\xb9\\x1f\\xb7?\\x9dL\\xbdh\\x99\\xa9Kt\\xeb\\xd1+\\xe8l\\xae\\xaa\\x8dZ\\xf8je\\x8d]#\\x1a\\xf6\\xe9\\xa8\\xe2\\xc9\\xc5\\x86D\\xef\\x93\\xbb}\\x8fW}\\x10:\\xbe2\\x0b7\\xa1k\\xdc\\xa9\\x0f\\xb6\\xf4\\xd1\\x9c\\xdfmcg\\xbb\\xae\\xe7\\x1c\\x1c\\xa3\\xd6^U;\\x0e\\xf6\\xe4f\\x91\\xb3\\xdf\\xed\\xbf\\xfe\\'\\x9ezG\\xe9^\\xbe\\xe7+\\xe5\\xa9\\xa8z\\xf17V5\\xda\\x18\\xbc\\x99n\\x89\\xe7>\\xf2\\xbet\\xd9~\\'unh\\x9fq\\xa9\\x96\\xa7\\xf7\\x98\\xe7\\xb55\\xc7\\xf3\\'v\\xe5$\\xf26\\x1a}\\x88\\x99\\xb0\\xfb5I\\x834\\xdd~\\xf3\\xaeY\\xcc)g\\xeb\\xf7\\x9f\\xb6FEm\\\\>W\\xcci\\'\\x90\\xca\\xab\\x9c\\xd6\\xbaC\\xab\\x0cd\\x0b!gs\\x8e\\xb9\\\\a\\xcf)\\xdb,\\xe8a\\xa2\\x1d(\\xd8C-O\\xe0\\x87X\\x00\\xcas\\x00\\x00\\x00\\x00\\x00\\xe4\\xaa\\\\\\x9f\\'\\xfci%,\\xd2#\\x1e\\xe8\\xf8\\x8dn\\xa5j\\xe9\\xf6\\x94\\xf4m$86\\xb3MC\\x17\\xdaL\\xf8J\\xd3k\\xe5\\xab\\xc8\\xf4\\xec\\xab\\xf4_s\\xba~\\xe7B\\x85\\x87\\xd5\\xb0\\xc9\\x19\\xe6zr\\xe3yt\\x9b+\\x9c\\xa9\\x9b\\x9d\\x93\\x9cE\\xab\\xdb\\xd7\\xef3\\xed\\xcb\\x9a5Lk\\xa37_y\\xee\\xd8Z\\x8c]\\xad,\\xcb\\xd2\\xba\\xc4\\\\\\xc7\\x15\\xfd\\xebu\\x16wd\\xbf\\x9cv\\xdd\\xa1\\xdf\\xf3L\\nw+\\x7fH\\x91#5\\xeb\\xe8y\\xdf\"\\xc7:W\\xa2\\xf9\\x92\\xb8/\\x99=\\xbb\\xf8\\x89]\\x97\\x11\\xaa5\\xfb\\xf8\\xbf\\xa8TIT\\xa8\\xf4\\xf8\\x89=\\x8a\\xab\\x91\\xdf\\x11\\x18\\xb9,}\\xc4N\\xe5\\x06+5\\xf7~\\xa7\\xa1\\xe8o\\xb9\\xf0\\xf7\\xfe\\xf4\\x12[\\x1d\\xf3fo\\xe8\\\\T\\x96\\xda\\xef7\\xfd\\xfa2Sc\\xb8l\\xdf\\xb2y\\\\\\xe4\\x9c\\xd6\\xa7B\\xa9\\xbb\\x8fn\\x8b\\xf3\\xf8\\x8b\\x8a\\x1b\\xb2\\xa2\\xb3~\\xf2Wh\\xbd\\xe6\\x9b\\xfa\\x9b\\xb9P\\xa5\\xcb\\xb3\\xbf\\x88\\xdf\\xda\\xaf\\x19\\'_\\xd1 \\xf2\\xcf\\xa9\\x02\\xb7\\x8e\\xdc\\xdf\\x9f2\\xdd\\xb5\\xce\\x88\\xe4T\\xdd\\x157\\xc8\\x9b2\\\\\\xda\\x9d\\xf9\\'R\\xf7\\x94\\xd5\\x86\\xf9\\xba&y\\xa6]D\\xc6\\x8f\\x11\\xb5\\x11\\x11\\xcb\\x93r\\xd9~\\x89\\x10\\xcaE\\xcci\\x07\\xbbE\\xfb\\xfa\\x13\\x9c]KN\\x8d\\x85bF\\xa4\\xab\\x96\\xa4j\\xf82\\xdc\\x89>%\\xd2\\xed\\x8c\\xd6\\\\Y\\xc8\\xe4TT\\xd3\\xab=Db\\xef\\xd254m~\\xa7\\xa2*/e9\\x8a\\xc2\\xee=\\x8dol\\xfd9\\xb3Z\\x97VE\\xa7wDO/\\xeeb_o.\\x85\\xb25\\xca\\xb9+Y\\xa5\\xc5\\x07\\xd2n%\\xd4\\x93.\\x7fM\\xad,\\xbc_\\x8e\\xa9\\xa6\\x82^ub\\xa3\\x18\\xe6\\xb9[\\x99\\xe6\\\\\\x7f\\x88\\xdb\\xc2\\x95Q\\xd9\\xea\\xe2?\\x95\\xc5\\x0f\\x96\\xc1B\\xdb\\xc94>:~\\xa7\\xad\\xfe\\x8e\\xb2\\x96\\xdf[\\xea\\xd6>\\xe1\\xe5K\\xa4\\x99\\xc9#\\xbdrI\\xfb\\xff\\x00\\xfd;\\x114\\xc7\\xf9O\\xec\\xfc\\x1d\\xe7\\xd4\\xa4^\\xd4\\x9c\\xac\\xf0\\xf5\\xf3}\\x9f\\xf7\\x91\\x8dSR\\xaer\\xaa\\xe5\\x9b\\xbe\\x89k\\xa2t\\xd0\\xba\\x8c\\x9a4R{\\x85\\xe5\\xd0\\x8aDl\\xd4\\xc9\\xd6L(\\x19\\x92\\x1cK\\xaeG&\\xd2\\xcd\\xe1\\xea{\\xb4{\\xcbv\\xc1\\x8a\\x95\\xae\\x8f}\\x9a\\xdc\\xba\\x8b\\x1f\\x0c\\xf4\\x92\\xadzo\\xe95v\\x8a&\\xdd6H\\x9c\\xdd\\xc8{?\\x03\\x7f\\x87\\xfd|\\xd05\\xd3\\xcc\\xe8j\\x968j\\x16\\x16\\xb27$qI\\xbe\\x9f;\\xe5e\\xeb\\xdf4\\xf7\\x10)\\xb0\\xc9mU\\xadn\\xa5\\xe7.o\\x13\\x86\\x89\\x8e\\xbc\\xed\\x9b\\xfe~\\xe1;\\xf9?cJ\\x7f\\x9d\\xb2i^\\xd6hk\\xde\\xd7d\\xc7x\\xfe\\xb0\\x81\\xfc\\xaa\\xfaRu\\xdfE\\x9a\\xd3\\x1c\\xd3\\xc3\\x14\\xfcud-\\xe2\\xeatl\\x93\\x88\\x9a#\\xdf\\xaeB\\xbd\\xe97\\xa3\\xd9,\\xf2E\\x0b\\xaa\\x1b2\\xca\\x92;N\\x8e\\x13\\xd9\\xc3\\x93\\x87\\xd8U__\\xf3\\xbdf\\'C}::\\xc7X\\xfa\\xa6\\xc3\\xc6t\\xb1\\xba\\'d\\xfe\\x1b\\x91\\xb9\\xe7\\x96\\xbd\\xfd~\\xcf7\\x0f\\xb4\\xeeb\\xeeIJ\\x04\\xc4\\xbb\\xb0\\xcd}\\xbf\\x1e\\xbd\\xbf\\xdfO\\xcc\\xd3w\\x0eT\\xb7\\xbb\\x89h9\\xf6w\\x7f\\xea\\x8f\\xd8M}\\x8f\\xbf\\xe4y\\xb6\\xec\\xe7\"\\xab\\\\\\x8a\\xd7\"d\\xe4q\\xa0\\xa8\\x9b/\\xc4\\x99\\xf4\\xab\\x8b\\x96\\xb2\\xb2z\\xb71\\xb1\\xac\\xceEV5{91\\x10\\xae\\xea\\xaa3\\xfcN\\x94Q7\\xee\\xf7\\x11l\\x95\\xc7\\xa7\\xb7\\xd1\\xde)\\xe4uMP`\\xcdTu\\xd4\\xcei\\xea+}GZ8u+[\\xd9\\x1d\\x86]Mq\\xad\\x96\\xa1T\\xe8W\\x04:lf\\xc2\\x19=\\xa7\\xcd\\xde|\\x00\\x1f\\xb3D\\x00\\x00\\x00\\x00\\x00\\x00\\x03\\xe9\\x97I>\\x97\\xa2\\xfa\\x9ca\\x9fQM\\x88e\\xe5\\xc8\\x92\\'\\x80=\\x03\\x82\\xb1\\n=\\xa8\\x8a\\xa4\\x9auG~%\\x11\\x85\\xef\\xeb\\x1e[\\x96u\\xa3\\x14\\xb5\\xe9\\xd7\\x92\\xe7\\xd4{O\\x85x\\xa2\\xb5\\xfa\\xb1\\xb6G\\xa73M\\x17\\xd4\\x9eP\\xc8\\xee\\x8f\\x95!\\xd9q\\xa4O\\xd4Gk!\\xfe\"C]^\\x99}\\xc4Z\\xb6\\xaf\\xf8\\x8b1rQ\\xc4\\x9ak\\xa9\\x0f\\xcbW\\x8d\\xddP\\xd1\\xd4M\\xcc\\x9e\\xf3\\x7f\\x87g\\xe5_\\x88\\x88\\xd5\\xcd\\xcd\\xf9\\xc4\\x8e\\xc0\\xfeU\\xf8\\x8a\\xb2\\xce_|\\xb2\\x10+q\\xe9\\x19j\\xdb*\\xbc\\xd7\\xf7\\xe8\\xc9=\\x9e\\xbff}\\x8b\\xc8-%W\\x9b6\\xd6\\xeb\\x86\\xcc\\xfb\\x19\\x08\\x96W#\\xdb+{5\\xb7\\xfc\\xff\\x00\\x11f\\xbe\\xe5\\xbb}\\xe6\\xca\\x8e\\xf3\\x92u\\xf8XV\\xf5\\x17~\\xce\\xfe#\\xe5\\x1d\\xff\\x005\\xcb=\\x93A\\x06\\x9e\\xefl\\x8c\\xbb\\x18\\xaeo\\xcf\\x99xa\\xeb\\xb6\\xe9\\xbf\\x80\\xda\\xddq\\x02#S~\\xe2\\xa4\\xb7\\xe2L\\xbb\\xfc&\\x1e&\\xc6\\xb97\\xaf\\xc2i\\xcfs\\xb0GW\\n\\xe9fN\\x84\\xdb\\x13t\\x86\\x90\\xb67+\\xb2Df\\xa2\\x82\\xbdt\\xb4\\xf9\\x15\\xf9+\\x91\\x15\\xc4o\\x1ccwO\\xa13\\xe5cH3+{Eu\\x90\\xb1\\xceymaxb(#\\xdd#{K\\xfd\\xcb\\xba\\xdf\\x8d\\xd5\\xf1J\\x8a\\xbdq\\xb0\\xa1\\xb1%\\xe1\\xed\\x91\\xedk\\xde\\xc4\\xd5\\xd9k\\x89\\x1d\\xae\\xeb\\x93_\\xbf\\x84\\x80]\\xabuH\\xe5\\xf5\\xbbQ\\x15H\\x93\\x98Mp\\xb8\\xf6\\xd6\\x9aEo\\xa1\\x87$\\xca\\xe5\\xcdUU}nw\\xfd\\xce\\x11\\x9c\\x01\\xbaL\\x8d\\xfd\\x14\\xf9\\x1b\\xca:\\xe2!\\x1c\\xc6[*\\xf29\\xd2A\\xb8\\x99\\xd1\\xcarK2\\xdfr\\xcd\\x13\\xdc{\\xb3\\x08\\x7f\\x89\\n\\xc5L\\x89%\\x03\\xd6\\xaf\\x91\\x1c\\xe8fF\\xc3\\'\\x93\\xf6\\xaf\\x1e-\\xff\\x00&|\\xbd\\xa7\\xe6\\xdd-\\xef%C\\x7fMx_\\xd6r\\x1d\\x03\\xe2]\\xcc\\xe8M\\xa4\\x97\\x1f\\x99k\\x1bu\\xbb\\xf6\\x17\\xfe4\\xe9R{\\xadd\\x95\\xb59#\\x9c\\xaek\\x18\\xde\\xccl\\xd6\\xaa\\x8d\\xff\\x00\\xdcD+\\xab\\xb3U!v\\xeb\\xda\\xe6\\x9b\\x9bW\\xdd\\x7f\\xbf\\xb8\\x8e\\xc9Y\\xc8\\xf5r\\xf5.\\xec~Z\\xbct\\x99Z\\x1e\\xc3\\x19\\xd1\\x10\\x8fbYH\\x9dL\\xa4\\x82\\xfb.\\x7f\\x81\\x12\\xb8\\xc8I\\xea3\\xb2\\x88Q\\xfcEgI^\\xf3_Y9\\xae;eq\\xd6\\xa4\\x81\\xa9\\xa2\\x15\\x14\\xf2+\\xde|\\x00\\x1f\\xb3T\\x00\\x00\\x00\\x00\\x00\\x00\\x00\\x00\\x00\\x00\\x002`\\x97#iKyV\\xef\\x99\\xa2\\x19\\x9d:y\\t\\xaa/\\xd9\\xa9\\x97y9\\x8b\\x11\\xe6\\x89\\xbfq\\xc6{\\xa6i\\xf7\\x90\\xd8\\xe4\\xc8\\xee\\x8a\\xb1I\\xf5>3\\x9fM\\x92\\t$W\\xf7\\x9b\\'O\\x9a\\xa7\\xc4J\\xedrd\\xc5\\xf8\\x88#d\\xdd\\x17\\xf2\\x89E\\rv\\xcb\\xbf\\x88\\xda\\xa5\\x9bI9\\x8a\\xa4z\\xec+\\xa1a6\\xb7\\xb0vR\\xdd\\xb6M\\xfd\\x19\\x0c[\\xc7Q\\xc5\\xb7}\\x93\\xe14.\\xe5\\xf9\\x92\\x11\\x8f\\xa8\\xaf\\xcf\\xe6M\\xae\\xb8\\x8f\\xb3\\xb9\\x93g\\xba\\xe4\\x9d{\\xf2\\x15\\x95\\xc2\\xf1\\x9fy\\x9bC|\\xe48_]\\xfbC\\xf4\\xfc_\\xd9\\xe8YO\\xc4\\xf9/_\\x84\\x8d_\\xf1\"\\xb9:\\xf6\"\\xe9s\\xfe\\x13_p\\xad4\\'\\x9d\\xef>\\xd7\\xc5\\xb1\\x8f\\xd4\\xf9q\\xad\\xdd>\\x13T\\xca\\x8e\\xd1\\x87STpd\\xa7\"G\\x92\\xf8\\xe0\\xda\\xd3aQ_\\x93U>\\x91\\xa5\\x91N\\xca\\x89\\xb3:\\rcr8\\xf6\\x00\\x002\\x9d\\xf1\\xa9\\xcc\\xc5;QO\\x8al1\\xe6D3\\x9bJj\\xef\\xdei\\xb4\\x8e)\\x8d\\xf1\\xef7\\xe0\\xb6\\xf8I\\xa5%Q\\x98\\x97<\\xbf\\x12#Cr\\xfcL\\xc5\\x9c\\xe5>\\xb7^\\xa4\\xea\\xb6gVv\\x14\\xda\\xd6\\xd7\\xa2\\xa7\\xdcG\\xeb\\xa6;%\\x94\\xc2\\x9d\\r\\x88cF\\x1c\\\\\\x8d\\xc7LaHu\\x19\\x0f1\\xce\\x89\\rx\\x00\\x1fL@\\x00\\x00\\x00\\x00\\x00\\x00\\x00\\x00\\x00\\x00\\x00\\x00\\x00\\x00\\x00\\x1fT\\xef\\x8e\\xa1S\\xa9Ls\\xeeFF=Y\\xdc|3?\\xe2K\\xdes\\xf9\\xf2\\x9a\\xfc\\x8f\\xb9\\x1f\\xaec\\xcc|\\xb6\\x19\\xf2W\\x08+\\xf202\\x19\\x1f9\\x83\\x96\\xd3w\\x1dq\\xd35Q\\xad\\xe2\\x07\\xc8e\\xdecHP\\xf8\\xf9\\x07\\x14\\xe0\\rSd\\x00\\x00\\x00\\x00\\x01\\xc8\\xe2\\x009\\x03\\x88\\x00\\xfb\\x99\\x95\\x1dB\\xa7y\\x88}D>*\\x19Y\"\\xb3\\xb8\\xccui\\x8e\\xafU:\\xd0\\xfb\\x99\\xf5\\x19\\xa1\\xf5\\xf3=\\xfd\\xe7\\x10\\x000\\x80\\x00\\x00\\x00\\x00\\x00\\x00\\x00\\x00\\x00\\x00\\x00\\x00\\x00\\x00\\x00\\x00\\x00\\x00\\x00\\x00\\x00\\x00\\x00\\x00\\x00\\x00\\x00\\x00\\x00\\x00\\x00\\x00\\x00\\x00\\x00\\x00\\x00\\x00\\x00\\x00\\x00\\x00\\x00\\x00\\x00\\x00\\x00\\x00\\x00\\x00\\x00\\x00\\x00\\x00\\x00\\x00\\x00\\x00\\x00\\x00\\x00\\x00\\x00\\x00\\x00\\x00\\x00\\x00\\x00\\x00\\x00\\x00\\x00\\x00\\x00\\x00\\x00\\x00\\x00\\x00\\x00\\x00\\x00\\x00\\x00\\x00\\x00\\x00\\x00\\x00\\x00\\x00\\x00\\x00\\x00\\x00\\x7f\\xff\\xd9'"
      ]
     },
     "execution_count": 6,
     "metadata": {},
     "output_type": "execute_result"
    }
   ],
   "source": [
    "bin_file.read()"
   ]
  },
  {
   "cell_type": "code",
   "execution_count": 7,
   "id": "b5fb677e",
   "metadata": {},
   "outputs": [
    {
     "data": {
      "text/plain": [
       "b''"
      ]
     },
     "execution_count": 7,
     "metadata": {},
     "output_type": "execute_result"
    }
   ],
   "source": [
    "bin_file.read()"
   ]
  },
  {
   "cell_type": "code",
   "execution_count": 9,
   "id": "11b581de",
   "metadata": {},
   "outputs": [
    {
     "data": {
      "text/plain": [
       "0"
      ]
     },
     "execution_count": 9,
     "metadata": {},
     "output_type": "execute_result"
    }
   ],
   "source": [
    "bin_file.seek(0)"
   ]
  },
  {
   "cell_type": "code",
   "execution_count": 10,
   "id": "81d7c885",
   "metadata": {},
   "outputs": [
    {
     "data": {
      "text/plain": [
       "b'\\xff\\xd8\\xff\\xe0\\x00\\x10JFIF\\x00\\x01\\x01\\x00\\x00\\x01\\x00\\x01\\x00\\x00'"
      ]
     },
     "execution_count": 10,
     "metadata": {},
     "output_type": "execute_result"
    }
   ],
   "source": [
    "bin_file.read(20)"
   ]
  },
  {
   "cell_type": "code",
   "execution_count": 11,
   "id": "543aff6e",
   "metadata": {},
   "outputs": [
    {
     "data": {
      "text/plain": [
       "20"
      ]
     },
     "execution_count": 11,
     "metadata": {},
     "output_type": "execute_result"
    }
   ],
   "source": [
    "bin_file.tell()"
   ]
  },
  {
   "cell_type": "code",
   "execution_count": 12,
   "id": "3b5702e7",
   "metadata": {},
   "outputs": [
    {
     "data": {
      "text/plain": [
       "0"
      ]
     },
     "execution_count": 12,
     "metadata": {},
     "output_type": "execute_result"
    }
   ],
   "source": [
    "bin_file.seek(0)"
   ]
  },
  {
   "cell_type": "code",
   "execution_count": 13,
   "id": "7bcaf1e9",
   "metadata": {},
   "outputs": [],
   "source": [
    "bin_data = bin_file.read()"
   ]
  },
  {
   "cell_type": "code",
   "execution_count": 14,
   "id": "de6151e0",
   "metadata": {},
   "outputs": [
    {
     "data": {
      "text/plain": [
       "10258"
      ]
     },
     "execution_count": 14,
     "metadata": {},
     "output_type": "execute_result"
    }
   ],
   "source": [
    "len(bin_data)"
   ]
  },
  {
   "cell_type": "code",
   "execution_count": 15,
   "id": "6dde70d5",
   "metadata": {},
   "outputs": [],
   "source": [
    "new_bin = open('new_image.jpg', 'wb')"
   ]
  },
  {
   "cell_type": "code",
   "execution_count": 16,
   "id": "568a79a0",
   "metadata": {},
   "outputs": [
    {
     "data": {
      "text/plain": [
       "10258"
      ]
     },
     "execution_count": 16,
     "metadata": {},
     "output_type": "execute_result"
    }
   ],
   "source": [
    "new_bin.write(bin_data)"
   ]
  },
  {
   "cell_type": "code",
   "execution_count": 17,
   "id": "8b7f03f0",
   "metadata": {},
   "outputs": [],
   "source": [
    "new_bin.close()"
   ]
  },
  {
   "cell_type": "code",
   "execution_count": 18,
   "id": "f625e57f",
   "metadata": {},
   "outputs": [],
   "source": [
    "# IPython\n",
    "\n",
    "from IPython.display import YouTubeVideo"
   ]
  },
  {
   "cell_type": "code",
   "execution_count": 19,
   "id": "f265d29f",
   "metadata": {},
   "outputs": [
    {
     "data": {
      "text/plain": [
       "type"
      ]
     },
     "execution_count": 19,
     "metadata": {},
     "output_type": "execute_result"
    }
   ],
   "source": [
    "type(YouTubeVideo)"
   ]
  },
  {
   "cell_type": "code",
   "execution_count": 20,
   "id": "cdf4a00a",
   "metadata": {},
   "outputs": [
    {
     "name": "stdout",
     "output_type": "stream",
     "text": [
      "['__class__', '__delattr__', '__dict__', '__dir__', '__doc__', '__eq__', '__format__', '__ge__', '__getattribute__', '__getstate__', '__gt__', '__hash__', '__init__', '__init_subclass__', '__le__', '__lt__', '__module__', '__ne__', '__new__', '__reduce__', '__reduce_ex__', '__repr__', '__setattr__', '__sizeof__', '__str__', '__subclasshook__', '__weakref__', '_repr_html_', '_repr_jpeg_', 'iframe']\n"
     ]
    }
   ],
   "source": [
    "print(dir(YouTubeVideo))"
   ]
  },
  {
   "cell_type": "code",
   "execution_count": 22,
   "id": "e6f0c74b",
   "metadata": {},
   "outputs": [],
   "source": [
    "url = [\n",
    "    \"https://www.youtube.com/watch?v=nai5bvLLLus\",\n",
    "    \"https://www.youtube.com/watch?v=es4x5R-rV9s\"]"
   ]
  },
  {
   "cell_type": "code",
   "execution_count": 23,
   "id": "181f392b",
   "metadata": {},
   "outputs": [
    {
     "data": {
      "text/plain": [
       "'https://www.youtube.com/watch?v=nai5bvLLLus'"
      ]
     },
     "execution_count": 23,
     "metadata": {},
     "output_type": "execute_result"
    }
   ],
   "source": [
    "url[0]"
   ]
  },
  {
   "cell_type": "code",
   "execution_count": 24,
   "id": "d6a1f41b",
   "metadata": {},
   "outputs": [
    {
     "data": {
      "text/plain": [
       "['https://www.youtube.com/watch?v', 'nai5bvLLLus']"
      ]
     },
     "execution_count": 24,
     "metadata": {},
     "output_type": "execute_result"
    }
   ],
   "source": [
    "url[0].split('=')"
   ]
  },
  {
   "cell_type": "code",
   "execution_count": 25,
   "id": "89b64769",
   "metadata": {},
   "outputs": [
    {
     "data": {
      "text/plain": [
       "'nai5bvLLLus'"
      ]
     },
     "execution_count": 25,
     "metadata": {},
     "output_type": "execute_result"
    }
   ],
   "source": [
    "url[0].split('=')[-1]"
   ]
  },
  {
   "cell_type": "code",
   "execution_count": 26,
   "id": "e7b6c57c",
   "metadata": {},
   "outputs": [],
   "source": [
    "yt = YouTubeVideo(id='nai5bvLLLus')"
   ]
  },
  {
   "cell_type": "code",
   "execution_count": 27,
   "id": "3df78d0a",
   "metadata": {},
   "outputs": [
    {
     "data": {
      "image/jpeg": "[encoded data removed]",
      "text/html": [
       "\n",
       "        <iframe\n",
       "            width=\"400\"\n",
       "            height=\"300\"\n",
       "            src=\"https://www.youtube.com/embed/nai5bvLLLus\"\n",
       "            frameborder=\"0\"\n",
       "            allowfullscreen\n",
       "            \n",
       "        ></iframe>\n",
       "        "
      ],
      "text/plain": [
       "<IPython.lib.display.YouTubeVideo at 0x1ab65ae3610>"
      ]
     },
     "execution_count": 27,
     "metadata": {},
     "output_type": "execute_result"
    }
   ],
   "source": [
    "yt"
   ]
  },
  {
   "cell_type": "code",
   "execution_count": 28,
   "id": "3890ea21",
   "metadata": {},
   "outputs": [],
   "source": [
    "# os module\n",
    "\n",
    "import os"
   ]
  },
  {
   "cell_type": "code",
   "execution_count": 29,
   "id": "4f63c9c2",
   "metadata": {},
   "outputs": [
    {
     "name": "stdout",
     "output_type": "stream",
     "text": [
      "['DirEntry', 'EX_OK', 'F_OK', 'GenericAlias', 'Mapping', 'MutableMapping', 'O_APPEND', 'O_BINARY', 'O_CREAT', 'O_EXCL', 'O_NOINHERIT', 'O_RANDOM', 'O_RDONLY', 'O_RDWR', 'O_SEQUENTIAL', 'O_SHORT_LIVED', 'O_TEMPORARY', 'O_TEXT', 'O_TRUNC', 'O_WRONLY', 'P_DETACH', 'P_NOWAIT', 'P_NOWAITO', 'P_OVERLAY', 'P_WAIT', 'PathLike', 'R_OK', 'SEEK_CUR', 'SEEK_END', 'SEEK_SET', 'TMP_MAX', 'W_OK', 'X_OK', '_AddedDllDirectory', '_Environ', '__all__', '__builtins__', '__doc__', '__file__', '__loader__', '__name__', '__package__', '__spec__', '_check_methods', '_execvpe', '_exists', '_exit', '_fspath', '_get_exports_list', '_walk', '_wrap_close', 'abc', 'abort', 'access', 'add_dll_directory', 'altsep', 'chdir', 'chmod', 'close', 'closerange', 'cpu_count', 'curdir', 'defpath', 'device_encoding', 'devnull', 'dup', 'dup2', 'environ', 'error', 'execl', 'execle', 'execlp', 'execlpe', 'execv', 'execve', 'execvp', 'execvpe', 'extsep', 'fdopen', 'fsdecode', 'fsencode', 'fspath', 'fstat', 'fsync', 'ftruncate', 'get_exec_path', 'get_handle_inheritable', 'get_inheritable', 'get_terminal_size', 'getcwd', 'getcwdb', 'getenv', 'getlogin', 'getpid', 'getppid', 'isatty', 'kill', 'linesep', 'link', 'listdir', 'lseek', 'lstat', 'makedirs', 'mkdir', 'name', 'open', 'pardir', 'path', 'pathsep', 'pipe', 'popen', 'putenv', 'read', 'readlink', 'remove', 'removedirs', 'rename', 'renames', 'replace', 'rmdir', 'scandir', 'sep', 'set_handle_inheritable', 'set_inheritable', 'spawnl', 'spawnle', 'spawnv', 'spawnve', 'st', 'startfile', 'stat', 'stat_result', 'statvfs_result', 'strerror', 'supports_bytes_environ', 'supports_dir_fd', 'supports_effective_ids', 'supports_fd', 'supports_follow_symlinks', 'symlink', 'sys', 'system', 'terminal_size', 'times', 'times_result', 'truncate', 'umask', 'uname_result', 'unlink', 'unsetenv', 'urandom', 'utime', 'waitpid', 'waitstatus_to_exitcode', 'walk', 'write']\n"
     ]
    }
   ],
   "source": [
    "print(dir(os))"
   ]
  },
  {
   "cell_type": "code",
   "execution_count": 30,
   "id": "b9e3b251",
   "metadata": {},
   "outputs": [
    {
     "data": {
      "text/plain": [
       "'D:\\\\Kapil\\\\Batches\\\\TTS\\\\Rixit'"
      ]
     },
     "execution_count": 30,
     "metadata": {},
     "output_type": "execute_result"
    }
   ],
   "source": [
    "# get current working dir\n",
    "\n",
    "os.getcwd()"
   ]
  },
  {
   "cell_type": "code",
   "execution_count": 31,
   "id": "ed1c35ea",
   "metadata": {},
   "outputs": [],
   "source": [
    "# create a new directory\n",
    "\n",
    "os.mkdir(\"os_folder\")"
   ]
  },
  {
   "cell_type": "code",
   "execution_count": 33,
   "id": "7b834a67",
   "metadata": {},
   "outputs": [],
   "source": [
    "# create nested folders/directories\n",
    "\n",
    "os.makedirs(\"1/2/3\")"
   ]
  },
  {
   "cell_type": "code",
   "execution_count": 34,
   "id": "08da7c0e",
   "metadata": {},
   "outputs": [],
   "source": [
    "# rmdir(folder_name)\n",
    "\n",
    "os.rmdir('os_folder')"
   ]
  },
  {
   "cell_type": "code",
   "execution_count": 35,
   "id": "a2e9bc7d",
   "metadata": {},
   "outputs": [
    {
     "ename": "OSError",
     "evalue": "[WinError 145] The directory is not empty: '1'",
     "output_type": "error",
     "traceback": [
      "\u001b[1;31m---------------------------------------------------------------------------\u001b[0m",
      "\u001b[1;31mOSError\u001b[0m                                   Traceback (most recent call last)",
      "Cell \u001b[1;32mIn[35], line 1\u001b[0m\n\u001b[1;32m----> 1\u001b[0m \u001b[43mos\u001b[49m\u001b[38;5;241;43m.\u001b[39;49m\u001b[43mremovedirs\u001b[49m\u001b[43m(\u001b[49m\u001b[38;5;124;43m'\u001b[39;49m\u001b[38;5;124;43m1\u001b[39;49m\u001b[38;5;124;43m'\u001b[39;49m\u001b[43m)\u001b[49m\n",
      "File \u001b[1;32m<frozen os>:243\u001b[0m, in \u001b[0;36mremovedirs\u001b[1;34m(name)\u001b[0m\n",
      "\u001b[1;31mOSError\u001b[0m: [WinError 145] The directory is not empty: '1'"
     ]
    }
   ],
   "source": [
    "os.removedirs('1')"
   ]
  },
  {
   "cell_type": "code",
   "execution_count": 36,
   "id": "cf177332",
   "metadata": {},
   "outputs": [],
   "source": [
    "os.removedirs('1/2/3')"
   ]
  },
  {
   "cell_type": "code",
   "execution_count": 37,
   "id": "b3aaeb73",
   "metadata": {},
   "outputs": [
    {
     "data": {
      "text/plain": [
       "\"This module provides access to some objects used or maintained by the\\ninterpreter and to functions that interact strongly with the interpreter.\\n\\nDynamic objects:\\n\\nargv -- command line arguments; argv[0] is the script pathname if known\\npath -- module search path; path[0] is the script directory, else ''\\nmodules -- dictionary of loaded modules\\n\\ndisplayhook -- called to show results in an interactive session\\nexcepthook -- called to handle any uncaught exception other than SystemExit\\n  To customize printing in an interactive session or to install a custom\\n  top-level exception handler, assign other functions to replace these.\\n\\nstdin -- standard input file object; used by input()\\nstdout -- standard output file object; used by print()\\nstderr -- standard error object; used for error messages\\n  By assigning other file objects (or objects that behave like files)\\n  to these, it is possible to redirect all of the interpreter's I/O.\\n\\nlast_type -- type of last uncaught exception\\nlast_value -- value of last uncaught exception\\nlast_traceback -- traceback of last uncaught exception\\n  These three are only available in an interactive session after a\\n  traceback has been printed.\\n\\nStatic objects:\\n\\nbuiltin_module_names -- tuple of module names built into this interpreter\\ncopyright -- copyright notice pertaining to this interpreter\\nexec_prefix -- prefix used to find the machine-specific Python library\\nexecutable -- absolute path of the executable binary of the Python interpreter\\nfloat_info -- a named tuple with information about the float implementation.\\nfloat_repr_style -- string indicating the style of repr() output for floats\\nhash_info -- a named tuple with information about the hash algorithm.\\nhexversion -- version information encoded as a single integer\\nimplementation -- Python implementation information.\\nint_info -- a named tuple with information about the int implementation.\\nmaxsize -- the largest supported length of containers.\\nmaxunicode -- the value of the largest Unicode code point\\nplatform -- platform identifier\\nprefix -- prefix used to find the Python library\\nthread_info -- a named tuple with information about the thread implementation.\\nversion -- the version of this interpreter as a string\\nversion_info -- version information as a named tuple\\ndllhandle -- [Windows only] integer handle of the Python DLL\\nwinver -- [Windows only] version number of the Python DLL\\n_enablelegacywindowsfsencoding -- [Windows only]\\n__stdin__ -- the original stdin; don't touch!\\n__stdout__ -- the original stdout; don't touch!\\n__stderr__ -- the original stderr; don't touch!\\n__displayhook__ -- the original displayhook; don't touch!\\n__excepthook__ -- the original excepthook; don't touch!\\n\\nFunctions:\\n\\ndisplayhook() -- print an object to the screen, and save it in builtins._\\nexcepthook() -- print an exception and its traceback to sys.stderr\\nexception() -- return the current thread's active exception\\nexc_info() -- return information about the current thread's active exception\\nexit() -- exit the interpreter by raising SystemExit\\ngetdlopenflags() -- returns flags to be used for dlopen() calls\\ngetprofile() -- get the global profiling function\\ngetrefcount() -- return the reference count for an object (plus one :-)\\ngetrecursionlimit() -- return the max recursion depth for the interpreter\\ngetsizeof() -- return the size of an object in bytes\\ngettrace() -- get the global debug tracing function\\nsetdlopenflags() -- set the flags to be used for dlopen() calls\\nsetprofile() -- set the global profiling function\\nsetrecursionlimit() -- set the max recursion depth for the interpreter\\nsettrace() -- set the global debug tracing function\\n\""
      ]
     },
     "execution_count": 37,
     "metadata": {},
     "output_type": "execute_result"
    }
   ],
   "source": [
    "# sys\n",
    "\n",
    "os.sys.__doc__"
   ]
  },
  {
   "cell_type": "code",
   "execution_count": 39,
   "id": "ef5f0d85",
   "metadata": {},
   "outputs": [
    {
     "data": {
      "text/plain": [
       "['C:\\\\Users\\\\Harsh LogicRays\\\\AppData\\\\Local\\\\Programs\\\\Python\\\\Python311\\\\Lib\\\\site-packages\\\\ipykernel_launcher.py',\n",
       " '-f',\n",
       " 'C:\\\\Users\\\\Harsh LogicRays\\\\AppData\\\\Roaming\\\\jupyter\\\\runtime\\\\kernel-77511adc-6943-4074-b345-8523f5e06da4.json']"
      ]
     },
     "execution_count": 39,
     "metadata": {},
     "output_type": "execute_result"
    }
   ],
   "source": [
    "os.sys.argv"
   ]
  },
  {
   "cell_type": "code",
   "execution_count": 41,
   "id": "65b9ac02",
   "metadata": {},
   "outputs": [
    {
     "data": {
      "text/plain": [
       "'3.11.2 (tags/v3.11.2:878ead1, Feb  7 2023, 16:38:35) [MSC v.1934 64 bit (AMD64)]'"
      ]
     },
     "execution_count": 41,
     "metadata": {},
     "output_type": "execute_result"
    }
   ],
   "source": [
    "os.sys.version"
   ]
  },
  {
   "cell_type": "code",
   "execution_count": 43,
   "id": "30fc8ae2",
   "metadata": {},
   "outputs": [
    {
     "data": {
      "text/plain": [
       "sys.version_info(major=3, minor=11, micro=2, releaselevel='final', serial=0)"
      ]
     },
     "execution_count": 43,
     "metadata": {},
     "output_type": "execute_result"
    }
   ],
   "source": [
    "os.sys.version_info"
   ]
  },
  {
   "cell_type": "code",
   "execution_count": 46,
   "id": "0703459d",
   "metadata": {},
   "outputs": [
    {
     "data": {
      "text/plain": [
       "['.git',\n",
       " '.ipynb_checkpoints',\n",
       " 'decision_tree',\n",
       " 'demo.ipynb',\n",
       " 'hello.txt',\n",
       " 'image.jpg',\n",
       " 'linear_regression_single_variable',\n",
       " 'logistic_regression_1',\n",
       " 'multivariat_linear_regression',\n",
       " 'new_image.jpg',\n",
       " 'remaining_topics.ipynb',\n",
       " 'support_vector_machine']"
      ]
     },
     "execution_count": 46,
     "metadata": {},
     "output_type": "execute_result"
    }
   ],
   "source": [
    "# list directory\n",
    "\n",
    "os.listdir(\"d:\")"
   ]
  },
  {
   "cell_type": "code",
   "execution_count": 47,
   "id": "52b64074",
   "metadata": {},
   "outputs": [],
   "source": [
    "cwd = os.getcwd()"
   ]
  },
  {
   "cell_type": "code",
   "execution_count": 48,
   "id": "fb7a89fc",
   "metadata": {},
   "outputs": [
    {
     "data": {
      "text/plain": [
       "'D:\\\\Kapil\\\\Batches\\\\TTS\\\\Rixit'"
      ]
     },
     "execution_count": 48,
     "metadata": {},
     "output_type": "execute_result"
    }
   ],
   "source": [
    "cwd"
   ]
  },
  {
   "cell_type": "code",
   "execution_count": 49,
   "id": "39ed172b",
   "metadata": {},
   "outputs": [
    {
     "data": {
      "text/plain": [
       "['.git',\n",
       " '.ipynb_checkpoints',\n",
       " 'decision_tree',\n",
       " 'demo.ipynb',\n",
       " 'hello.txt',\n",
       " 'image.jpg',\n",
       " 'linear_regression_single_variable',\n",
       " 'logistic_regression_1',\n",
       " 'multivariat_linear_regression',\n",
       " 'new_image.jpg',\n",
       " 'remaining_topics.ipynb',\n",
       " 'support_vector_machine']"
      ]
     },
     "execution_count": 49,
     "metadata": {},
     "output_type": "execute_result"
    }
   ],
   "source": [
    "os.listdir(cwd)"
   ]
  },
  {
   "cell_type": "code",
   "execution_count": 50,
   "id": "24a1d600",
   "metadata": {},
   "outputs": [
    {
     "name": "stdout",
     "output_type": "stream",
     "text": [
      ".git\n",
      ".ipynb_checkpoints\n",
      "decision_tree\n",
      "demo.ipynb\n",
      "hello.txt\n",
      "image.jpg\n",
      "linear_regression_single_variable\n",
      "logistic_regression_1\n",
      "multivariat_linear_regression\n",
      "new_image.jpg\n",
      "remaining_topics.ipynb\n",
      "support_vector_machine\n"
     ]
    }
   ],
   "source": [
    "for i in os.listdir(cwd):\n",
    "    print(i)"
   ]
  },
  {
   "cell_type": "code",
   "execution_count": 51,
   "id": "1e30e8d8",
   "metadata": {},
   "outputs": [
    {
     "data": {
      "text/plain": [
       "<nt.ScandirIterator at 0x1ab6351cd30>"
      ]
     },
     "execution_count": 51,
     "metadata": {},
     "output_type": "execute_result"
    }
   ],
   "source": [
    "os.scandir(cwd)"
   ]
  },
  {
   "cell_type": "code",
   "execution_count": 52,
   "id": "ec528bcb",
   "metadata": {},
   "outputs": [
    {
     "name": "stdout",
     "output_type": "stream",
     "text": [
      "<DirEntry '.git'>\n",
      "<DirEntry '.ipynb_checkpoints'>\n",
      "<DirEntry 'decision_tree'>\n",
      "<DirEntry 'demo.ipynb'>\n",
      "<DirEntry 'hello.txt'>\n",
      "<DirEntry 'image.jpg'>\n",
      "<DirEntry 'linear_regression_single_variable'>\n",
      "<DirEntry 'logistic_regression_1'>\n",
      "<DirEntry 'multivariat_linear_regression'>\n",
      "<DirEntry 'new_image.jpg'>\n",
      "<DirEntry 'remaining_topics.ipynb'>\n",
      "<DirEntry 'support_vector_machine'>\n"
     ]
    }
   ],
   "source": [
    "for i in os.scandir(cwd):\n",
    "    print(i)"
   ]
  },
  {
   "cell_type": "code",
   "execution_count": 53,
   "id": "a03e78b9",
   "metadata": {},
   "outputs": [
    {
     "name": "stdout",
     "output_type": "stream",
     "text": [
      ".git True\n",
      ".ipynb_checkpoints True\n",
      "decision_tree True\n",
      "demo.ipynb False\n",
      "hello.txt False\n",
      "image.jpg False\n",
      "linear_regression_single_variable True\n",
      "logistic_regression_1 True\n",
      "multivariat_linear_regression True\n",
      "new_image.jpg False\n",
      "remaining_topics.ipynb False\n",
      "support_vector_machine True\n"
     ]
    }
   ],
   "source": [
    "for i in os.scandir(cwd):\n",
    "    print(i.name, i.is_dir())"
   ]
  },
  {
   "cell_type": "code",
   "execution_count": 54,
   "id": "889ea65c",
   "metadata": {},
   "outputs": [
    {
     "name": "stdout",
     "output_type": "stream",
     "text": [
      ".git\t|\tFile Folder\n",
      ".ipynb_checkpoints\t|\tFile Folder\n",
      "decision_tree\t|\tFile Folder\n",
      "demo.ipynb\t|\tipynb File\n",
      "hello.txt\t|\ttxt File\n",
      "image.jpg\t|\tjpg File\n",
      "linear_regression_single_variable\t|\tFile Folder\n",
      "logistic_regression_1\t|\tFile Folder\n",
      "multivariat_linear_regression\t|\tFile Folder\n",
      "new_image.jpg\t|\tjpg File\n",
      "remaining_topics.ipynb\t|\tipynb File\n",
      "support_vector_machine\t|\tFile Folder\n"
     ]
    }
   ],
   "source": [
    "for i in os.scandir(cwd):\n",
    "    if i.is_dir():\n",
    "        print(f\"{i.name}\\t|\\tFile Folder\")\n",
    "    elif i.is_file():\n",
    "        f_type = i.name.split('.')[-1]\n",
    "        print(f\"{i.name}\\t|\\t{f_type} File\")"
   ]
  },
  {
   "cell_type": "code",
   "execution_count": 55,
   "id": "e944af61",
   "metadata": {},
   "outputs": [],
   "source": [
    "# custom module\n",
    "\n",
    "import rx_utility"
   ]
  },
  {
   "cell_type": "code",
   "execution_count": 56,
   "id": "74361c16",
   "metadata": {},
   "outputs": [
    {
     "name": "stdout",
     "output_type": "stream",
     "text": [
      "['__builtins__', '__cached__', '__doc__', '__file__', '__loader__', '__name__', '__package__', '__spec__', 'add']\n"
     ]
    }
   ],
   "source": [
    "print(dir(rx_utility))"
   ]
  },
  {
   "cell_type": "code",
   "execution_count": 57,
   "id": "d81bf1f5",
   "metadata": {},
   "outputs": [
    {
     "data": {
      "text/plain": [
       "<module 'rx_utility' from 'D:\\\\Kapil\\\\Batches\\\\TTS\\\\Rixit\\\\rx_utility.py'>"
      ]
     },
     "execution_count": 57,
     "metadata": {},
     "output_type": "execute_result"
    }
   ],
   "source": [
    "rx_utility"
   ]
  },
  {
   "cell_type": "code",
   "execution_count": 58,
   "id": "68d1c8de",
   "metadata": {},
   "outputs": [],
   "source": [
    "x = rx_utility"
   ]
  },
  {
   "cell_type": "code",
   "execution_count": 59,
   "id": "1cf67032",
   "metadata": {},
   "outputs": [
    {
     "data": {
      "text/plain": [
       "'rx_utility'"
      ]
     },
     "execution_count": 59,
     "metadata": {},
     "output_type": "execute_result"
    }
   ],
   "source": [
    "x.__name__"
   ]
  },
  {
   "cell_type": "code",
   "execution_count": 60,
   "id": "08eafc03",
   "metadata": {},
   "outputs": [
    {
     "data": {
      "text/plain": [
       "11"
      ]
     },
     "execution_count": 60,
     "metadata": {},
     "output_type": "execute_result"
    }
   ],
   "source": [
    "rx_utility.add(5, 6)"
   ]
  },
  {
   "cell_type": "code",
   "execution_count": 61,
   "id": "8d6a8ae9",
   "metadata": {},
   "outputs": [
    {
     "data": {
      "text/plain": [
       "53"
      ]
     },
     "execution_count": 61,
     "metadata": {},
     "output_type": "execute_result"
    }
   ],
   "source": [
    "rx_utility.add(5, 6, 5,6,8,7,9,7)"
   ]
  },
  {
   "cell_type": "code",
   "execution_count": 63,
   "id": "1d647143",
   "metadata": {},
   "outputs": [
    {
     "data": {
      "text/plain": [
       "'This function returns addition of x and y.'"
      ]
     },
     "execution_count": 63,
     "metadata": {},
     "output_type": "execute_result"
    }
   ],
   "source": [
    "rx_utility.add.__doc__"
   ]
  },
  {
   "cell_type": "code",
   "execution_count": 64,
   "id": "55343b97",
   "metadata": {},
   "outputs": [],
   "source": [
    "# datetime module\n",
    "\n",
    "import datetime"
   ]
  },
  {
   "cell_type": "code",
   "execution_count": 65,
   "id": "6bc9fbb2",
   "metadata": {},
   "outputs": [
    {
     "name": "stdout",
     "output_type": "stream",
     "text": [
      "['MAXYEAR', 'MINYEAR', 'UTC', '__all__', '__builtins__', '__cached__', '__doc__', '__file__', '__loader__', '__name__', '__package__', '__spec__', 'date', 'datetime', 'datetime_CAPI', 'sys', 'time', 'timedelta', 'timezone', 'tzinfo']\n"
     ]
    }
   ],
   "source": [
    "print(dir(datetime))"
   ]
  },
  {
   "cell_type": "code",
   "execution_count": 66,
   "id": "e1d3c262",
   "metadata": {},
   "outputs": [
    {
     "ename": "TypeError",
     "evalue": "function missing required argument 'year' (pos 1)",
     "output_type": "error",
     "traceback": [
      "\u001b[1;31m---------------------------------------------------------------------------\u001b[0m",
      "\u001b[1;31mTypeError\u001b[0m                                 Traceback (most recent call last)",
      "Cell \u001b[1;32mIn[66], line 1\u001b[0m\n\u001b[1;32m----> 1\u001b[0m \u001b[43mdatetime\u001b[49m\u001b[38;5;241;43m.\u001b[39;49m\u001b[43mdate\u001b[49m\u001b[43m(\u001b[49m\u001b[43m)\u001b[49m\n",
      "\u001b[1;31mTypeError\u001b[0m: function missing required argument 'year' (pos 1)"
     ]
    }
   ],
   "source": [
    "datetime.date()"
   ]
  },
  {
   "cell_type": "code",
   "execution_count": 67,
   "id": "7a9299c0",
   "metadata": {},
   "outputs": [
    {
     "ename": "TypeError",
     "evalue": "function missing required argument 'month' (pos 2)",
     "output_type": "error",
     "traceback": [
      "\u001b[1;31m---------------------------------------------------------------------------\u001b[0m",
      "\u001b[1;31mTypeError\u001b[0m                                 Traceback (most recent call last)",
      "Cell \u001b[1;32mIn[67], line 1\u001b[0m\n\u001b[1;32m----> 1\u001b[0m \u001b[43mdatetime\u001b[49m\u001b[38;5;241;43m.\u001b[39;49m\u001b[43mdate\u001b[49m\u001b[43m(\u001b[49m\u001b[38;5;241;43m2023\u001b[39;49m\u001b[43m)\u001b[49m\n",
      "\u001b[1;31mTypeError\u001b[0m: function missing required argument 'month' (pos 2)"
     ]
    }
   ],
   "source": [
    "datetime.date(2023)"
   ]
  },
  {
   "cell_type": "code",
   "execution_count": 68,
   "id": "9cf2be16",
   "metadata": {},
   "outputs": [
    {
     "ename": "TypeError",
     "evalue": "function missing required argument 'day' (pos 3)",
     "output_type": "error",
     "traceback": [
      "\u001b[1;31m---------------------------------------------------------------------------\u001b[0m",
      "\u001b[1;31mTypeError\u001b[0m                                 Traceback (most recent call last)",
      "Cell \u001b[1;32mIn[68], line 1\u001b[0m\n\u001b[1;32m----> 1\u001b[0m \u001b[43mdatetime\u001b[49m\u001b[38;5;241;43m.\u001b[39;49m\u001b[43mdate\u001b[49m\u001b[43m(\u001b[49m\u001b[38;5;241;43m2023\u001b[39;49m\u001b[43m,\u001b[49m\u001b[43m \u001b[49m\u001b[38;5;241;43m5\u001b[39;49m\u001b[43m)\u001b[49m\n",
      "\u001b[1;31mTypeError\u001b[0m: function missing required argument 'day' (pos 3)"
     ]
    }
   ],
   "source": [
    "datetime.date(2023, 5)"
   ]
  },
  {
   "cell_type": "code",
   "execution_count": 69,
   "id": "714e7391",
   "metadata": {},
   "outputs": [
    {
     "data": {
      "text/plain": [
       "datetime.date(2023, 5, 16)"
      ]
     },
     "execution_count": 69,
     "metadata": {},
     "output_type": "execute_result"
    }
   ],
   "source": [
    "datetime.date(2023, 5, 16)"
   ]
  },
  {
   "cell_type": "code",
   "execution_count": 70,
   "id": "95a6f7ae",
   "metadata": {},
   "outputs": [],
   "source": [
    "dt = datetime.date(2023, 5, 16)"
   ]
  },
  {
   "cell_type": "code",
   "execution_count": 71,
   "id": "25ab1086",
   "metadata": {},
   "outputs": [
    {
     "data": {
      "text/plain": [
       "5"
      ]
     },
     "execution_count": 71,
     "metadata": {},
     "output_type": "execute_result"
    }
   ],
   "source": [
    "dt.month"
   ]
  },
  {
   "cell_type": "code",
   "execution_count": 73,
   "id": "f6a4471b",
   "metadata": {},
   "outputs": [
    {
     "data": {
      "text/plain": [
       "2"
      ]
     },
     "execution_count": 73,
     "metadata": {},
     "output_type": "execute_result"
    }
   ],
   "source": [
    "dt.isoweekday()"
   ]
  },
  {
   "cell_type": "code",
   "execution_count": 74,
   "id": "62ff2a5c",
   "metadata": {},
   "outputs": [
    {
     "data": {
      "text/plain": [
       "datetime.IsoCalendarDate(year=2023, week=20, weekday=2)"
      ]
     },
     "execution_count": 74,
     "metadata": {},
     "output_type": "execute_result"
    }
   ],
   "source": [
    "dt.isocalendar()"
   ]
  },
  {
   "cell_type": "code",
   "execution_count": 75,
   "id": "823556dc",
   "metadata": {},
   "outputs": [],
   "source": [
    "d = dt.isocalendar()"
   ]
  },
  {
   "cell_type": "code",
   "execution_count": 76,
   "id": "e7103954",
   "metadata": {},
   "outputs": [
    {
     "ename": "TypeError",
     "evalue": "tuple.count() takes exactly one argument (0 given)",
     "output_type": "error",
     "traceback": [
      "\u001b[1;31m---------------------------------------------------------------------------\u001b[0m",
      "\u001b[1;31mTypeError\u001b[0m                                 Traceback (most recent call last)",
      "Cell \u001b[1;32mIn[76], line 1\u001b[0m\n\u001b[1;32m----> 1\u001b[0m \u001b[43md\u001b[49m\u001b[38;5;241;43m.\u001b[39;49m\u001b[43mcount\u001b[49m\u001b[43m(\u001b[49m\u001b[43m)\u001b[49m\n",
      "\u001b[1;31mTypeError\u001b[0m: tuple.count() takes exactly one argument (0 given)"
     ]
    }
   ],
   "source": [
    "d.count()"
   ]
  },
  {
   "cell_type": "code",
   "execution_count": 77,
   "id": "ae351195",
   "metadata": {},
   "outputs": [
    {
     "data": {
      "text/plain": [
       "datetime.IsoCalendarDate(year=2023, week=20, weekday=2)"
      ]
     },
     "execution_count": 77,
     "metadata": {},
     "output_type": "execute_result"
    }
   ],
   "source": [
    "d"
   ]
  },
  {
   "cell_type": "code",
   "execution_count": 78,
   "id": "01cee6f8",
   "metadata": {},
   "outputs": [
    {
     "data": {
      "text/plain": [
       "datetime.datetime(2023, 5, 16, 14, 58, 7, 577394)"
      ]
     },
     "execution_count": 78,
     "metadata": {},
     "output_type": "execute_result"
    }
   ],
   "source": [
    "datetime.datetime.now()"
   ]
  },
  {
   "cell_type": "code",
   "execution_count": 79,
   "id": "2733eec6",
   "metadata": {},
   "outputs": [
    {
     "name": "stdout",
     "output_type": "stream",
     "text": [
      "2023-05-16 14:58:43.224143\n",
      "2023-05-16 14:58:43.225142\n",
      "2023-05-16 14:58:43.225142\n",
      "2023-05-16 14:58:43.225142\n",
      "2023-05-16 14:58:43.225142\n",
      "2023-05-16 14:58:43.225142\n",
      "2023-05-16 14:58:43.225142\n",
      "2023-05-16 14:58:43.225142\n",
      "2023-05-16 14:58:43.225142\n",
      "2023-05-16 14:58:43.225142\n"
     ]
    }
   ],
   "source": [
    "for i in range(10):\n",
    "    print(datetime.datetime.now())"
   ]
  },
  {
   "cell_type": "code",
   "execution_count": 80,
   "id": "fadd80d3",
   "metadata": {},
   "outputs": [],
   "source": [
    "import timer"
   ]
  },
  {
   "cell_type": "code",
   "execution_count": 81,
   "id": "8ce42486",
   "metadata": {},
   "outputs": [
    {
     "name": "stdout",
     "output_type": "stream",
     "text": [
      "['__doc__', '__file__', '__loader__', '__name__', '__package__', '__spec__', '__version__', 'error', 'kill_timer', 'set_timer']\n"
     ]
    }
   ],
   "source": [
    "print(dir(timer))"
   ]
  },
  {
   "cell_type": "code",
   "execution_count": 82,
   "id": "77848044",
   "metadata": {},
   "outputs": [
    {
     "ename": "TypeError",
     "evalue": "set_timer() takes exactly 2 arguments (0 given)",
     "output_type": "error",
     "traceback": [
      "\u001b[1;31m---------------------------------------------------------------------------\u001b[0m",
      "\u001b[1;31mTypeError\u001b[0m                                 Traceback (most recent call last)",
      "Cell \u001b[1;32mIn[82], line 1\u001b[0m\n\u001b[1;32m----> 1\u001b[0m \u001b[43mtimer\u001b[49m\u001b[38;5;241;43m.\u001b[39;49m\u001b[43mset_timer\u001b[49m\u001b[43m(\u001b[49m\u001b[43m)\u001b[49m\n",
      "\u001b[1;31mTypeError\u001b[0m: set_timer() takes exactly 2 arguments (0 given)"
     ]
    }
   ],
   "source": [
    "timer.set_timer()"
   ]
  },
  {
   "cell_type": "code",
   "execution_count": 86,
   "id": "18292dec",
   "metadata": {},
   "outputs": [],
   "source": [
    "import time"
   ]
  },
  {
   "cell_type": "code",
   "execution_count": 87,
   "id": "bd5975bf",
   "metadata": {},
   "outputs": [],
   "source": [
    "time.sleep(10)"
   ]
  },
  {
   "cell_type": "code",
   "execution_count": 88,
   "id": "26f8f7e9",
   "metadata": {},
   "outputs": [
    {
     "name": "stdout",
     "output_type": "stream",
     "text": [
      "2023-05-16 15:02:21.755401\n",
      "2023-05-16 15:02:22.755675\n",
      "2023-05-16 15:02:23.756342\n",
      "2023-05-16 15:02:24.756577\n",
      "2023-05-16 15:02:25.757132\n",
      "2023-05-16 15:02:26.757486\n",
      "2023-05-16 15:02:27.758020\n",
      "2023-05-16 15:02:28.758974\n",
      "2023-05-16 15:02:29.760267\n",
      "2023-05-16 15:02:30.761643\n"
     ]
    }
   ],
   "source": [
    "for i in range(10):\n",
    "    time.sleep(1)\n",
    "    print(datetime.datetime.now())"
   ]
  },
  {
   "cell_type": "code",
   "execution_count": 89,
   "id": "7a9216d9",
   "metadata": {},
   "outputs": [
    {
     "data": {
      "text/plain": [
       "datetime.date(2023, 5, 16)"
      ]
     },
     "execution_count": 89,
     "metadata": {},
     "output_type": "execute_result"
    }
   ],
   "source": [
    "dt"
   ]
  },
  {
   "cell_type": "code",
   "execution_count": 90,
   "id": "5d38314d",
   "metadata": {},
   "outputs": [
    {
     "data": {
      "text/plain": [
       "'00:00:00'"
      ]
     },
     "execution_count": 90,
     "metadata": {},
     "output_type": "execute_result"
    }
   ],
   "source": [
    "dt.strftime(\"%X\")"
   ]
  },
  {
   "cell_type": "code",
   "execution_count": 91,
   "id": "71875e52",
   "metadata": {},
   "outputs": [
    {
     "data": {
      "text/plain": [
       "'05/16/23'"
      ]
     },
     "execution_count": 91,
     "metadata": {},
     "output_type": "execute_result"
    }
   ],
   "source": [
    "dt.strftime(\"%x\")"
   ]
  },
  {
   "cell_type": "code",
   "execution_count": 92,
   "id": "0d6acc5a",
   "metadata": {},
   "outputs": [
    {
     "data": {
      "text/plain": [
       "'05/16/23 00:00:00'"
      ]
     },
     "execution_count": 92,
     "metadata": {},
     "output_type": "execute_result"
    }
   ],
   "source": [
    "dt.strftime(\"%x %X\")"
   ]
  },
  {
   "cell_type": "code",
   "execution_count": 93,
   "id": "ec39fba6",
   "metadata": {},
   "outputs": [
    {
     "data": {
      "text/plain": [
       "'May'"
      ]
     },
     "execution_count": 93,
     "metadata": {},
     "output_type": "execute_result"
    }
   ],
   "source": [
    "dt.strftime(\"%b\")"
   ]
  },
  {
   "cell_type": "code",
   "execution_count": 94,
   "id": "0d22fcb3",
   "metadata": {},
   "outputs": [
    {
     "data": {
      "text/plain": [
       "'May'"
      ]
     },
     "execution_count": 94,
     "metadata": {},
     "output_type": "execute_result"
    }
   ],
   "source": [
    "dt.strftime(\"%B\")"
   ]
  },
  {
   "cell_type": "code",
   "execution_count": 95,
   "id": "3b33b766",
   "metadata": {},
   "outputs": [
    {
     "data": {
      "text/plain": [
       "'Tue'"
      ]
     },
     "execution_count": 95,
     "metadata": {},
     "output_type": "execute_result"
    }
   ],
   "source": [
    "dt.strftime(\"%a\")"
   ]
  },
  {
   "cell_type": "code",
   "execution_count": 96,
   "id": "890ff954",
   "metadata": {},
   "outputs": [
    {
     "data": {
      "text/plain": [
       "'Tuesday'"
      ]
     },
     "execution_count": 96,
     "metadata": {},
     "output_type": "execute_result"
    }
   ],
   "source": [
    "dt.strftime(\"%A\")"
   ]
  },
  {
   "cell_type": "code",
   "execution_count": 97,
   "id": "c2443665",
   "metadata": {},
   "outputs": [
    {
     "data": {
      "text/plain": [
       "'05'"
      ]
     },
     "execution_count": 97,
     "metadata": {},
     "output_type": "execute_result"
    }
   ],
   "source": [
    "dt.strftime(\"%m\")"
   ]
  },
  {
   "cell_type": "code",
   "execution_count": 98,
   "id": "79a54114",
   "metadata": {},
   "outputs": [
    {
     "data": {
      "text/plain": [
       "'00'"
      ]
     },
     "execution_count": 98,
     "metadata": {},
     "output_type": "execute_result"
    }
   ],
   "source": [
    "dt.strftime(\"%M\")"
   ]
  },
  {
   "cell_type": "code",
   "execution_count": 99,
   "id": "933169b5",
   "metadata": {},
   "outputs": [
    {
     "data": {
      "text/plain": [
       "'16'"
      ]
     },
     "execution_count": 99,
     "metadata": {},
     "output_type": "execute_result"
    }
   ],
   "source": [
    "dt.strftime(\"%d\")"
   ]
  },
  {
   "cell_type": "code",
   "execution_count": 100,
   "id": "87f0a61c",
   "metadata": {},
   "outputs": [
    {
     "data": {
      "text/plain": [
       "'05/16/23'"
      ]
     },
     "execution_count": 100,
     "metadata": {},
     "output_type": "execute_result"
    }
   ],
   "source": [
    "dt.strftime(\"%D\")"
   ]
  },
  {
   "cell_type": "code",
   "execution_count": 101,
   "id": "6f81caf9",
   "metadata": {},
   "outputs": [
    {
     "data": {
      "text/plain": [
       "'23'"
      ]
     },
     "execution_count": 101,
     "metadata": {},
     "output_type": "execute_result"
    }
   ],
   "source": [
    "dt.strftime(\"%y\")"
   ]
  },
  {
   "cell_type": "code",
   "execution_count": 102,
   "id": "b6e9901c",
   "metadata": {},
   "outputs": [
    {
     "data": {
      "text/plain": [
       "'2023'"
      ]
     },
     "execution_count": 102,
     "metadata": {},
     "output_type": "execute_result"
    }
   ],
   "source": [
    "dt.strftime(\"%Y\")"
   ]
  },
  {
   "cell_type": "code",
   "execution_count": 103,
   "id": "80fc0eb7",
   "metadata": {},
   "outputs": [
    {
     "data": {
      "text/plain": [
       "'Tue 16 May'"
      ]
     },
     "execution_count": 103,
     "metadata": {},
     "output_type": "execute_result"
    }
   ],
   "source": [
    "dt.strftime(\"%a %d %b\")"
   ]
  },
  {
   "cell_type": "code",
   "execution_count": 104,
   "id": "0ba90553",
   "metadata": {},
   "outputs": [
    {
     "data": {
      "text/plain": [
       "'Tue 16 May, 2023'"
      ]
     },
     "execution_count": 104,
     "metadata": {},
     "output_type": "execute_result"
    }
   ],
   "source": [
    "dt.strftime(\"%a %d %b, %Y\")"
   ]
  },
  {
   "cell_type": "code",
   "execution_count": 105,
   "id": "212208df",
   "metadata": {},
   "outputs": [],
   "source": [
    "# random module\n",
    "\n",
    "import random"
   ]
  },
  {
   "cell_type": "code",
   "execution_count": 106,
   "id": "633a733e",
   "metadata": {},
   "outputs": [
    {
     "name": "stdout",
     "output_type": "stream",
     "text": [
      "['BPF', 'LOG4', 'NV_MAGICCONST', 'RECIP_BPF', 'Random', 'SG_MAGICCONST', 'SystemRandom', 'TWOPI', '_ONE', '_Sequence', '_Set', '__all__', '__builtins__', '__cached__', '__doc__', '__file__', '__loader__', '__name__', '__package__', '__spec__', '_accumulate', '_acos', '_bisect', '_ceil', '_cos', '_e', '_exp', '_floor', '_index', '_inst', '_isfinite', '_log', '_os', '_pi', '_random', '_repeat', '_sha512', '_sin', '_sqrt', '_test', '_test_generator', '_urandom', '_warn', 'betavariate', 'choice', 'choices', 'expovariate', 'gammavariate', 'gauss', 'getrandbits', 'getstate', 'lognormvariate', 'normalvariate', 'paretovariate', 'randbytes', 'randint', 'random', 'randrange', 'sample', 'seed', 'setstate', 'shuffle', 'triangular', 'uniform', 'vonmisesvariate', 'weibullvariate']\n"
     ]
    }
   ],
   "source": [
    "print(dir(random))"
   ]
  },
  {
   "cell_type": "code",
   "execution_count": 108,
   "id": "5b351014",
   "metadata": {},
   "outputs": [
    {
     "data": {
      "text/plain": [
       "0.8332372141090701"
      ]
     },
     "execution_count": 108,
     "metadata": {},
     "output_type": "execute_result"
    }
   ],
   "source": [
    "random.random()"
   ]
  },
  {
   "cell_type": "code",
   "execution_count": 109,
   "id": "f171bae4",
   "metadata": {},
   "outputs": [
    {
     "data": {
      "text/plain": [
       "34"
      ]
     },
     "execution_count": 109,
     "metadata": {},
     "output_type": "execute_result"
    }
   ],
   "source": [
    "random.randrange(1, 50)"
   ]
  },
  {
   "cell_type": "code",
   "execution_count": 112,
   "id": "371b8600",
   "metadata": {},
   "outputs": [
    {
     "data": {
      "text/plain": [
       "31"
      ]
     },
     "execution_count": 112,
     "metadata": {},
     "output_type": "execute_result"
    }
   ],
   "source": [
    "random.randrange(1, 50, 2)"
   ]
  },
  {
   "cell_type": "code",
   "execution_count": 114,
   "id": "a11a46ad",
   "metadata": {},
   "outputs": [
    {
     "data": {
      "text/plain": [
       "43"
      ]
     },
     "execution_count": 114,
     "metadata": {},
     "output_type": "execute_result"
    }
   ],
   "source": [
    "random.randint(1, 50)"
   ]
  },
  {
   "cell_type": "code",
   "execution_count": 116,
   "id": "dc98c41a",
   "metadata": {},
   "outputs": [
    {
     "data": {
      "text/plain": [
       "4873"
      ]
     },
     "execution_count": 116,
     "metadata": {},
     "output_type": "execute_result"
    }
   ],
   "source": [
    "random.randint(1000, 9999)"
   ]
  },
  {
   "cell_type": "code",
   "execution_count": 117,
   "id": "40f08d8d",
   "metadata": {},
   "outputs": [
    {
     "ename": "TypeError",
     "evalue": "Random.shuffle() missing 1 required positional argument: 'x'",
     "output_type": "error",
     "traceback": [
      "\u001b[1;31m---------------------------------------------------------------------------\u001b[0m",
      "\u001b[1;31mTypeError\u001b[0m                                 Traceback (most recent call last)",
      "Cell \u001b[1;32mIn[117], line 1\u001b[0m\n\u001b[1;32m----> 1\u001b[0m \u001b[43mrandom\u001b[49m\u001b[38;5;241;43m.\u001b[39;49m\u001b[43mshuffle\u001b[49m\u001b[43m(\u001b[49m\u001b[43m)\u001b[49m\n",
      "\u001b[1;31mTypeError\u001b[0m: Random.shuffle() missing 1 required positional argument: 'x'"
     ]
    }
   ],
   "source": [
    "random.shuffle()"
   ]
  },
  {
   "cell_type": "code",
   "execution_count": 118,
   "id": "efd05613",
   "metadata": {},
   "outputs": [
    {
     "ename": "TypeError",
     "evalue": "'str' object does not support item assignment",
     "output_type": "error",
     "traceback": [
      "\u001b[1;31m---------------------------------------------------------------------------\u001b[0m",
      "\u001b[1;31mTypeError\u001b[0m                                 Traceback (most recent call last)",
      "Cell \u001b[1;32mIn[118], line 1\u001b[0m\n\u001b[1;32m----> 1\u001b[0m \u001b[43mrandom\u001b[49m\u001b[38;5;241;43m.\u001b[39;49m\u001b[43mshuffle\u001b[49m\u001b[43m(\u001b[49m\u001b[38;5;124;43m'\u001b[39;49m\u001b[38;5;124;43mhello\u001b[39;49m\u001b[38;5;124;43m'\u001b[39;49m\u001b[43m)\u001b[49m\n",
      "File \u001b[1;32m~\\AppData\\Local\\Programs\\Python\\Python311\\Lib\\random.py:383\u001b[0m, in \u001b[0;36mRandom.shuffle\u001b[1;34m(self, x)\u001b[0m\n\u001b[0;32m    380\u001b[0m \u001b[38;5;28;01mfor\u001b[39;00m i \u001b[38;5;129;01min\u001b[39;00m \u001b[38;5;28mreversed\u001b[39m(\u001b[38;5;28mrange\u001b[39m(\u001b[38;5;241m1\u001b[39m, \u001b[38;5;28mlen\u001b[39m(x))):\n\u001b[0;32m    381\u001b[0m     \u001b[38;5;66;03m# pick an element in x[:i+1] with which to exchange x[i]\u001b[39;00m\n\u001b[0;32m    382\u001b[0m     j \u001b[38;5;241m=\u001b[39m randbelow(i \u001b[38;5;241m+\u001b[39m \u001b[38;5;241m1\u001b[39m)\n\u001b[1;32m--> 383\u001b[0m     \u001b[43mx\u001b[49m\u001b[43m[\u001b[49m\u001b[43mi\u001b[49m\u001b[43m]\u001b[49m, x[j] \u001b[38;5;241m=\u001b[39m x[j], x[i]\n",
      "\u001b[1;31mTypeError\u001b[0m: 'str' object does not support item assignment"
     ]
    }
   ],
   "source": [
    "random.shuffle('hello')"
   ]
  },
  {
   "cell_type": "code",
   "execution_count": 119,
   "id": "d796254d",
   "metadata": {},
   "outputs": [],
   "source": [
    "random.shuffle(['hello', 'welcome', 'to', 'logicrays'])"
   ]
  },
  {
   "cell_type": "code",
   "execution_count": 120,
   "id": "6cfaff84",
   "metadata": {},
   "outputs": [],
   "source": [
    "l = ['hello', 'welcome', 'to', 'logicrays']"
   ]
  },
  {
   "cell_type": "code",
   "execution_count": 121,
   "id": "885ff4b7",
   "metadata": {},
   "outputs": [
    {
     "data": {
      "text/plain": [
       "['hello', 'welcome', 'to', 'logicrays']"
      ]
     },
     "execution_count": 121,
     "metadata": {},
     "output_type": "execute_result"
    }
   ],
   "source": [
    "l"
   ]
  },
  {
   "cell_type": "code",
   "execution_count": 122,
   "id": "8f3bdd8d",
   "metadata": {},
   "outputs": [],
   "source": [
    "random.shuffle(l)"
   ]
  },
  {
   "cell_type": "code",
   "execution_count": 123,
   "id": "2134b939",
   "metadata": {},
   "outputs": [
    {
     "data": {
      "text/plain": [
       "['to', 'logicrays', 'welcome', 'hello']"
      ]
     },
     "execution_count": 123,
     "metadata": {},
     "output_type": "execute_result"
    }
   ],
   "source": [
    "l"
   ]
  },
  {
   "cell_type": "code",
   "execution_count": null,
   "id": "41b4b7e3",
   "metadata": {},
   "outputs": [],
   "source": []
  }
 ],
 "metadata": {
  "kernelspec": {
   "display_name": "Python 3 (ipykernel)",
   "language": "python",
   "name": "python3"
  },
  "language_info": {
   "codemirror_mode": {
    "name": "ipython",
    "version": 3
   },
   "file_extension": ".py",
   "mimetype": "text/x-python",
   "name": "python",
   "nbconvert_exporter": "python",
   "pygments_lexer": "ipython3",
   "version": "3.11.2"
  }
 },
 "nbformat": 4,
 "nbformat_minor": 5
}
